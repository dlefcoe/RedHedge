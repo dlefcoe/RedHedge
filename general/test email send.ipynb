{
 "cells": [
  {
   "cell_type": "markdown",
   "metadata": {},
   "source": [
    "# Send Outlook Email Via Python"
   ]
  },
  {
   "cell_type": "markdown",
   "metadata": {},
   "source": [
    "There appear to be a number of methods for email sending. This documents will explore a few options and then focus on outlook methods.\n"
   ]
  },
  {
   "cell_type": "markdown",
   "metadata": {},
   "source": [
    "### Written by: Darren Lefcoe\n",
    "\n",
    "contact:\n",
    "- email: darren@redhedge.uk\n",
    "- twitter: @dlefcoe\n",
    "- linkedin: https://www.linkedin.com/in/darren-lefcoe/\n",
    "\n",
    "resource used:\n",
    "- python documentation\n",
    "- stack overflow\n",
    "\n"
   ]
  },
  {
   "cell_type": "markdown",
   "metadata": {},
   "source": [
    "## Will use your local outlook account to send."
   ]
  },
  {
   "cell_type": "code",
   "execution_count": 1,
   "metadata": {},
   "outputs": [],
   "source": [
    "import win32com.client as win32\n",
    "outlook = win32.Dispatch('outlook.application')\n",
    "mail = outlook.CreateItem(0)\n",
    "mail.To = 'dlefcoe@gmail.com'\n",
    "mail.Subject = 'Message subject'\n",
    "mail.Body = 'Message body'\n",
    "mail.HTMLBody = '<h2>HTML Message body</h2>' #this field is optional\n",
    "\n",
    "# To attach a file to the email (optional):\n",
    "# attachment  = \"Path to the attachment\"\n",
    "# mail.Attachments.Add(attachment)\n",
    "\n",
    "mail.Send()\n",
    "\n",
    "print('the mail has been sent')\n",
    "\n"
   ]
  }
 ],
 "metadata": {
  "kernelspec": {
   "display_name": "Python 3",
   "language": "python",
   "name": "python3"
  },
  "language_info": {
   "codemirror_mode": {
    "name": "ipython",
    "version": 3
   },
   "file_extension": ".py",
   "mimetype": "text/x-python",
   "name": "python",
   "nbconvert_exporter": "python",
   "pygments_lexer": "ipython3",
   "version": "3.7.7"
  }
 },
 "nbformat": 4,
 "nbformat_minor": 4
}
