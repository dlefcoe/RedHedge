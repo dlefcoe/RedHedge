{
 "cells": [
  {
   "cell_type": "markdown",
   "metadata": {},
   "source": [
    "# Using the XBBG module to extract and analyze bond data for corporate hybrids"
   ]
  },
  {
   "cell_type": "markdown",
   "metadata": {},
   "source": [
    "# written by: Darren Lefcoe\n",
    "Jun 2020\n",
    "\n",
    "contact:\n",
    "* gitHub: @dlefcoe\n",
    "* twitter: @dlefcoe\n",
    "* email: darren@redhedge.uk\n"
   ]
  },
  {
   "cell_type": "markdown",
   "metadata": {},
   "source": [
    "# First we do the imports"
   ]
  },
  {
   "cell_type": "code",
   "execution_count": 1,
   "metadata": {
    "tags": []
   },
   "outputs": [],
   "source": [
    "import os\n",
    "\n",
    "import time\n",
    "import datetime\n",
    "import collections\n",
    "\n",
    "import blpapi\n",
    "from xbbg import blp\n",
    "\n",
    "import openpyxl\n",
    "import pandas as pd\n",
    "\n",
    "# import numpy as np\n",
    "\n"
   ]
  },
  {
   "cell_type": "code",
   "execution_count": 2,
   "metadata": {},
   "outputs": [],
   "source": [
    "# given limit for bloomberg data\n",
    "bloombergLimit = 500_000\n",
    "\n"
   ]
  },
  {
   "cell_type": "code",
   "execution_count": 3,
   "metadata": {},
   "outputs": [],
   "source": [
    "# get the file path of this file\n",
    "dir_path = os.path.abspath('')\n",
    "\n"
   ]
  },
  {
   "cell_type": "code",
   "execution_count": 4,
   "metadata": {},
   "outputs": [],
   "source": [
    "# define a list of bond fields\n",
    "fieldList = ['ticker', 'coupon', 'nxt_call_dt', 'final_maturity', \n",
    "            'mty_typ', 'px_mid', 'z_sprd_mid', 'yas_ispread', 'yas_bond_yld', \n",
    "            'yas_risk','crncy', 'payment_rank', 'industry_sector','rtg_moody','rtg_sp']\n",
    "\n",
    "\n"
   ]
  },
  {
   "cell_type": "code",
   "execution_count": 6,
   "metadata": {
    "tags": []
   },
   "outputs": [
    {
     "name": "stdout",
     "output_type": "stream",
     "text": [
      "getting security list from: ['worksheets', 'tickers']\n"
     ]
    }
   ],
   "source": [
    "# define bond list\n",
    "\n",
    "# get items from sheet (in the same folder)\n",
    "fileToGet = 'hybridSecurityList.xlsx'\n",
    "\n",
    "# join file and correct folder\n",
    "fileToGet = os.path.join(dir_path, fileToGet)\n",
    "secListXlsx = pd.ExcelFile(fileToGet)\n",
    "\n",
    "# the names of the available sheets\n",
    "print('getting security list from:', secListXlsx.sheet_names)\n",
    "\n"
   ]
  },
  {
   "cell_type": "code",
   "execution_count": 7,
   "metadata": {
    "tags": []
   },
   "outputs": [],
   "source": [
    "\n",
    "# put bond list into a pandas dataframe\n",
    "df = pd.DataFrame(secListXlsx.parse('tickers'))\n",
    "\n",
    "\n"
   ]
  },
  {
   "cell_type": "markdown",
   "metadata": {},
   "source": [
    "# Lets see the bond list data"
   ]
  },
  {
   "cell_type": "code",
   "execution_count": 8,
   "metadata": {},
   "outputs": [
    {
     "data": {
      "text/html": [
       "<div>\n",
       "<style scoped>\n",
       "    .dataframe tbody tr th:only-of-type {\n",
       "        vertical-align: middle;\n",
       "    }\n",
       "\n",
       "    .dataframe tbody tr th {\n",
       "        vertical-align: top;\n",
       "    }\n",
       "\n",
       "    .dataframe thead th {\n",
       "        text-align: right;\n",
       "    }\n",
       "</style>\n",
       "<table border=\"1\" class=\"dataframe\">\n",
       "  <thead>\n",
       "    <tr style=\"text-align: right;\">\n",
       "      <th></th>\n",
       "      <th>QJ937853 Corp</th>\n",
       "      <th>XS1323897485</th>\n",
       "      <th>SOLBBB 5.118 PERP nc-21</th>\n",
       "    </tr>\n",
       "  </thead>\n",
       "  <tbody>\n",
       "    <tr>\n",
       "      <th>0</th>\n",
       "      <td>EJ917655 Corp</td>\n",
       "      <td>XS0992293901</td>\n",
       "      <td>SOLBBB 5.425 PERP nc-23</td>\n",
       "    </tr>\n",
       "    <tr>\n",
       "      <th>1</th>\n",
       "      <td>AV915324 Corp</td>\n",
       "      <td>BE6309987400</td>\n",
       "      <td>SOLBBB 4 1/4 PERP nc-23</td>\n",
       "    </tr>\n",
       "    <tr>\n",
       "      <th>2</th>\n",
       "      <td>QJ937566 Corp</td>\n",
       "      <td>XS1323897725</td>\n",
       "      <td>SOLBBB 5.869 PERP nc-24</td>\n",
       "    </tr>\n",
       "    <tr>\n",
       "      <th>3</th>\n",
       "      <td>EK834863 Corp</td>\n",
       "      <td>DE000A14J611</td>\n",
       "      <td>BAYNGR 2 3/8 04/02/75 nc-22</td>\n",
       "    </tr>\n",
       "    <tr>\n",
       "      <th>4</th>\n",
       "      <td>EK352403 Corp</td>\n",
       "      <td>DE000A11QR73</td>\n",
       "      <td>BAYNGR 3 3/4 07/01/74 nc-24</td>\n",
       "    </tr>\n",
       "    <tr>\n",
       "      <th>...</th>\n",
       "      <td>...</td>\n",
       "      <td>...</td>\n",
       "      <td>...</td>\n",
       "    </tr>\n",
       "    <tr>\n",
       "      <th>180</th>\n",
       "      <td>EK523297 Corp</td>\n",
       "      <td>DE000A1ZN206</td>\n",
       "      <td>WIEAV 5 PERP nc-21</td>\n",
       "    </tr>\n",
       "    <tr>\n",
       "      <th>181</th>\n",
       "      <td>AM679347 Corp</td>\n",
       "      <td>XS1582433428</td>\n",
       "      <td>TRAFIG 6 7/8 PERP nc-21</td>\n",
       "    </tr>\n",
       "    <tr>\n",
       "      <th>182</th>\n",
       "      <td>AZ920495 Corp</td>\n",
       "      <td>XS2033327854</td>\n",
       "      <td>TRAFIG 7 1/2 PERP nc-24</td>\n",
       "    </tr>\n",
       "    <tr>\n",
       "      <th>183</th>\n",
       "      <td>AO262498 Corp</td>\n",
       "      <td>XS1642682410</td>\n",
       "      <td>SOFTBK 6 PERP nc-23</td>\n",
       "    </tr>\n",
       "    <tr>\n",
       "      <th>184</th>\n",
       "      <td>AO262515 Corp</td>\n",
       "      <td>XS1642686676</td>\n",
       "      <td>SOFTBK 6 7/8 PERP nc-27</td>\n",
       "    </tr>\n",
       "  </tbody>\n",
       "</table>\n",
       "<p>185 rows × 3 columns</p>\n",
       "</div>"
      ],
      "text/plain": [
       "     QJ937853 Corp  XS1323897485      SOLBBB 5.118 PERP nc-21\n",
       "0    EJ917655 Corp  XS0992293901      SOLBBB 5.425 PERP nc-23\n",
       "1    AV915324 Corp  BE6309987400      SOLBBB 4 1/4 PERP nc-23\n",
       "2    QJ937566 Corp  XS1323897725      SOLBBB 5.869 PERP nc-24\n",
       "3    EK834863 Corp  DE000A14J611  BAYNGR 2 3/8 04/02/75 nc-22\n",
       "4    EK352403 Corp  DE000A11QR73  BAYNGR 3 3/4 07/01/74 nc-24\n",
       "..             ...           ...                          ...\n",
       "180  EK523297 Corp  DE000A1ZN206           WIEAV 5 PERP nc-21\n",
       "181  AM679347 Corp  XS1582433428      TRAFIG 6 7/8 PERP nc-21\n",
       "182  AZ920495 Corp  XS2033327854      TRAFIG 7 1/2 PERP nc-24\n",
       "183  AO262498 Corp  XS1642682410          SOFTBK 6 PERP nc-23\n",
       "184  AO262515 Corp  XS1642686676      SOFTBK 6 7/8 PERP nc-27\n",
       "\n",
       "[185 rows x 3 columns]"
      ]
     },
     "execution_count": 8,
     "metadata": {},
     "output_type": "execute_result"
    }
   ],
   "source": [
    "df\n"
   ]
  },
  {
   "cell_type": "markdown",
   "metadata": {},
   "source": [
    "# A function to get the bond data"
   ]
  },
  {
   "cell_type": "code",
   "execution_count": 9,
   "metadata": {},
   "outputs": [],
   "source": [
    "def getListDataFromBbg(securtiyList, fieldList):\n",
    "    ''' \n",
    "    gets data from bloomberg using a while loop until completion\n",
    "\n",
    "        inputs:\n",
    "            securtiyList - list of tickers to obtain\n",
    "            fieldList - the fields requested for each ticker\n",
    "\n",
    "        output:\n",
    "            resultsOfDataReq - resulting pandas array of the data that was requested\n",
    "\n",
    "    '''\n",
    "    # get the data (bdp returns a dataframe)\n",
    "    resultsOfDataReq = blp.bdp(tickers=securtiyList, flds=fieldList)\n",
    "\n",
    "    \n",
    "    #pre-loop initialization\n",
    "    keepLooping = True\n",
    "    loopingCounter = 0\n",
    "    while keepLooping:\n",
    "        \n",
    "        # check which items are missing\n",
    "        listError = list(set(securtiyList)-set(resultsOfDataReq.index.values))\n",
    "        \n",
    "        if len(listError) == 0:\n",
    "            # data collection process finished\n",
    "            keepLooping = False\n",
    "            break\n",
    "        else:\n",
    "            print(len(listError), 'of', len(securtiyList), 'remaining', ': loop', loopingCounter)\n",
    "            loopingCounter += 1\n",
    "            if loopingCounter > 10:\n",
    "                # more than 10 tries at data collection\n",
    "                keepLooping = False\n",
    "                break\n",
    "\n",
    "        # get and append more data\n",
    "        try:\n",
    "            nextChunk = blp.bdp(tickers=listError, flds=fieldList)\n",
    "            resultsOfDataReq = resultsOfDataReq.append(nextChunk)\n",
    "        except:\n",
    "            print('no data to add')\n",
    "\n",
    "        # remove duplicates\n",
    "        resultsOfDataReq = resultsOfDataReq.drop_duplicates()\n",
    "\n",
    "    return resultsOfDataReq\n",
    "    "
   ]
  },
  {
   "cell_type": "markdown",
   "metadata": {},
   "source": [
    "# Now get the bond data\n"
   ]
  },
  {
   "cell_type": "code",
   "execution_count": 10,
   "metadata": {
    "tags": []
   },
   "outputs": [
    {
     "name": "stdout",
     "output_type": "stream",
     "text": [
      "getting data from bbg\n",
      "104 of 184 remaining : loop 0\n"
     ]
    }
   ],
   "source": [
    "# put all isin's in a list\n",
    "isin = df.iloc[:,1].tolist()\n",
    "securtiyList = [x + \" Corp\" for x in isin]\n",
    "\n",
    "# make the lists unique (and keep the order)\n",
    "securtiyList = list(collections.OrderedDict.fromkeys(securtiyList))\n",
    "\n",
    "# get the data from bloomberg\n",
    "print('getting data from bbg')\n",
    "bondData = getListDataFromBbg(securtiyList, fieldList)\n",
    "print('the data is collected')\n",
    "\n"
   ]
  },
  {
   "cell_type": "code",
   "execution_count": 11,
   "metadata": {},
   "outputs": [
    {
     "data": {
      "text/plain": [
       "(184, 15)"
      ]
     },
     "execution_count": 11,
     "metadata": {},
     "output_type": "execute_result"
    }
   ],
   "source": [
    "# We can inspect the shape ofthe data here\n",
    "bondData.shape"
   ]
  },
  {
   "cell_type": "code",
   "execution_count": 4,
   "metadata": {},
   "outputs": [
    {
     "ename": "NameError",
     "evalue": "name 'bondData' is not defined",
     "output_type": "error",
     "traceback": [
      "\u001b[1;31m---------------------------------------------------------------------------\u001b[0m",
      "\u001b[1;31mNameError\u001b[0m                                 Traceback (most recent call last)",
      "\u001b[1;32m<ipython-input-4-296ba53390e2>\u001b[0m in \u001b[0;36m<module>\u001b[1;34m\u001b[0m\n\u001b[1;32m----> 1\u001b[1;33m \u001b[0mbondData\u001b[0m\u001b[1;33m\u001b[0m\u001b[1;33m\u001b[0m\u001b[0m\n\u001b[0m",
      "\u001b[1;31mNameError\u001b[0m: name 'bondData' is not defined"
     ]
    }
   ],
   "source": [
    "bondData"
   ]
  },
  {
   "cell_type": "code",
   "execution_count": 3,
   "metadata": {
    "tags": []
   },
   "outputs": [
    {
     "ename": "NameError",
     "evalue": "name 'bondData' is not defined",
     "output_type": "error",
     "traceback": [
      "\u001b[1;31m---------------------------------------------------------------------------\u001b[0m",
      "\u001b[1;31mNameError\u001b[0m                                 Traceback (most recent call last)",
      "\u001b[1;32m<ipython-input-3-9260c1bad30b>\u001b[0m in \u001b[0;36m<module>\u001b[1;34m\u001b[0m\n\u001b[1;32m----> 1\u001b[1;33m \u001b[1;32mif\u001b[0m \u001b[0mbondData\u001b[0m\u001b[1;33m.\u001b[0m\u001b[0mshape\u001b[0m\u001b[1;33m[\u001b[0m\u001b[1;36m0\u001b[0m\u001b[1;33m]\u001b[0m \u001b[1;33m/\u001b[0m \u001b[0mlen\u001b[0m\u001b[1;33m(\u001b[0m\u001b[0misin\u001b[0m\u001b[1;33m)\u001b[0m\u001b[1;33m:\u001b[0m\u001b[1;33m\u001b[0m\u001b[1;33m\u001b[0m\u001b[0m\n\u001b[0m\u001b[0;32m      2\u001b[0m     \u001b[1;31m# remove duplicaes\u001b[0m\u001b[1;33m\u001b[0m\u001b[1;33m\u001b[0m\u001b[1;33m\u001b[0m\u001b[0m\n\u001b[0;32m      3\u001b[0m     \u001b[0mprint\u001b[0m\u001b[1;33m(\u001b[0m\u001b[1;34m'more rows than isins'\u001b[0m\u001b[1;33m)\u001b[0m\u001b[1;33m\u001b[0m\u001b[1;33m\u001b[0m\u001b[0m\n\u001b[0;32m      4\u001b[0m     \u001b[0mbondData\u001b[0m\u001b[1;33m.\u001b[0m\u001b[0mdrop_duplicates\u001b[0m\u001b[1;33m(\u001b[0m\u001b[1;33m)\u001b[0m\u001b[1;33m\u001b[0m\u001b[1;33m\u001b[0m\u001b[0m\n\u001b[0;32m      5\u001b[0m \u001b[1;33m\u001b[0m\u001b[0m\n",
      "\u001b[1;31mNameError\u001b[0m: name 'bondData' is not defined"
     ]
    }
   ],
   "source": [
    "if bondData.shape[0] / len(isin):\n",
    "    # remove duplicaes\n",
    "    print('more rows than isins')\n",
    "    bondData.drop_duplicates()\n",
    "\n",
    "bondData.shape[0]\n",
    "\n"
   ]
  },
  {
   "cell_type": "markdown",
   "metadata": {},
   "source": [
    "# bonds crossing one year\n"
   ]
  },
  {
   "cell_type": "code",
   "execution_count": 1,
   "metadata": {},
   "outputs": [],
   "source": [
    "def oneYearBonds(bondList):\n",
    "    ''' \n",
    "    function to determine bonds that have 1 year to mature\n",
    "    \n",
    "        input: bondList, pandas dataframe containing bonds\n",
    "        \n",
    "        output: anotherList, a sorted list of bonds that will mature\n",
    "    \n",
    "    '''\n",
    "    \n",
    "    \n",
    "    return 0\n"
   ]
  },
  {
   "cell_type": "code",
   "execution_count": 2,
   "metadata": {},
   "outputs": [
    {
     "ename": "NameError",
     "evalue": "name 'bondData' is not defined",
     "output_type": "error",
     "traceback": [
      "\u001b[1;31m---------------------------------------------------------------------------\u001b[0m",
      "\u001b[1;31mNameError\u001b[0m                                 Traceback (most recent call last)",
      "\u001b[1;32m<ipython-input-2-88f14e302b26>\u001b[0m in \u001b[0;36m<module>\u001b[1;34m\u001b[0m\n\u001b[1;32m----> 1\u001b[1;33m \u001b[0moneYearBonds\u001b[0m\u001b[1;33m(\u001b[0m\u001b[0mbondData\u001b[0m\u001b[1;33m)\u001b[0m\u001b[1;33m\u001b[0m\u001b[1;33m\u001b[0m\u001b[0m\n\u001b[0m",
      "\u001b[1;31mNameError\u001b[0m: name 'bondData' is not defined"
     ]
    }
   ],
   "source": [
    "oneYearBonds(bondData)"
   ]
  },
  {
   "cell_type": "markdown",
   "metadata": {},
   "source": [
    "# Other not used code...\n"
   ]
  },
  {
   "cell_type": "code",
   "execution_count": null,
   "metadata": {},
   "outputs": [],
   "source": [
    "def examples():\n",
    "    \"\"\"\n",
    "    examples of how to get basic data from bbg\n",
    "    \"\"\"\n",
    "\n",
    "    # get some data for a single name\n",
    "    x = blp.bdp('BDEV LN Equity', 'px_last')\n",
    "    print(x)\n",
    "    print('the type of x', type(x))\n",
    "    print('the value of x:', x.iloc[0]['px_last'])\n",
    "\n",
    "\n",
    "    # get multiple data for a single name\n",
    "    y = blp.bdp('BDEV LN Equity', flds=['px_bid', 'px_ask'])\n",
    "    print(y)\n",
    "\n",
    "\n",
    "    # get multiple data for multiple names\n",
    "    z = blp.bdp(tickers=['BDEV LN Equity', 'BARC LN Equity'], flds=['px_bid', 'px_ask'])\n",
    "    print(z)\n",
    "    print('here is the bdev ask >>>', z.loc['BDEV LN Equity','px_ask'])\n",
    "\n"
   ]
  },
  {
   "cell_type": "code",
   "execution_count": null,
   "metadata": {},
   "outputs": [],
   "source": [
    "def get_bonds():\n",
    "    \"\"\"\n",
    "    function to get bond data from bloomberg using tickers in an excel sheet.\n",
    "\n",
    "    return:\n",
    "        data - a pandas data set\n",
    "    \"\"\"\n",
    "\n",
    "    print('getting bond data...')\n",
    "    # securtiyList = ['US29265WAA62 Corp', 'XS1713463559 Corp', 'XS2000719992 Corp', 'XS0954675129 Corp', 'XS0954675129 Corp']\n",
    "    fieldList = ['ticker', 'coupon', 'nxt_call_dt', 'final_maturity', \n",
    "                'mty_typ', 'px_mid', 'z_sprd_mid', 'yas_ispread', 'yas_bond_yld', \n",
    "                'yas_risk','crncy', 'payment_rank', 'industry_sector','rtg_moody','rtg_sp']\n",
    "\n",
    "    # the script fis here\n",
    "    #dir_path = os.path.dirname(os.path.realpath(__file__))\n",
    "    dir_path = os.path.abspath('')\n",
    "\n",
    "\n",
    "    # get items from sheet (in the same folder)\n",
    "    fileToGet = 'hybridSecurityList.xlsx'\n",
    "    # join file and correct folder\n",
    "    fileToGet = os.path.join(dir_path, fileToGet)\n",
    "    secListXlsx = pd.ExcelFile(fileToGet)\n",
    "    \n",
    "    # the names of the available sheets\n",
    "    print('getting security list from:', secListXlsx.sheet_names)\n",
    "    df = pd.DataFrame(secListXlsx.parse('tickers'))\n",
    "    print('summary of the data')\n",
    "    print(df.info)\n",
    "    \n",
    "    # put all isin's in a list\n",
    "    isin = df.iloc[:,1].tolist()\n",
    "    securtiyList = [x + \" Corp\" for x in isin]\n",
    "\n",
    "    # make the lists unique (and keep the order)\n",
    "    securtiyList = list(collections.OrderedDict.fromkeys(securtiyList))\n",
    "\n",
    "    # get the data from bloomberg\n",
    "    print('getting data from bbg')\n",
    "    bondData = getListDataFromBbg(securtiyList, fieldList)\n",
    "\n",
    "    #print('number of columns:', data.head())\n",
    "    print('data is fetched:')\n",
    "    print(bondData.info)\n",
    "\n",
    "    return bondData"
   ]
  },
  {
   "cell_type": "code",
   "execution_count": null,
   "metadata": {},
   "outputs": [],
   "source": [
    "def store_data(someData):\n",
    "    ''' function to store data to file \n",
    "    \n",
    "    if data is stored:\n",
    "        return: True otherwise False\n",
    "    '''\n",
    "\n",
    "    dataWritten = False\n",
    "\n",
    "    # location to store file\n",
    "    pathToStore = os.path.dirname(__file__)\n",
    "    # use a subfolder callled data folder\n",
    "    pathToStore = os.path.join(pathToStore, 'dataFolder')\n",
    "    print(f'the file resides here: {pathToStore}')\n",
    "\n",
    "    # file name\n",
    "    fileDateTime = datetime.datetime.now().strftime('%Y-%m-%d %H_%M_%S')\n",
    "    \n",
    "\n",
    "    fileToStoreXLSX = 'hybrids_results ' + fileDateTime + '.xlsx'\n",
    "    fileToStoreHTML = 'hybrids_results ' + fileDateTime + '.html'\n",
    "    print(f'the name of the excel file: {fileToStoreXLSX}')\n",
    "    print(f'the name of the HTML file: {fileToStoreHTML}')\n",
    "\n",
    "    # full path name\n",
    "    fullPathToStoreXLSX = os.path.join(pathToStore, fileToStoreXLSX)\n",
    "    fullPathToStoreHTML = os.path.join(pathToStore, fileToStoreHTML)    \n",
    "    \n",
    "    # save the file (to excel and html)\n",
    "    df = pd.DataFrame(someData)\n",
    "    df.to_excel(fullPathToStoreXLSX)\n",
    "    df.to_html(fullPathToStoreHTML)\n",
    "    dataWritten = True\n",
    "\n",
    "\n",
    "    return dataWritten"
   ]
  },
  {
   "cell_type": "code",
   "execution_count": null,
   "metadata": {},
   "outputs": [],
   "source": [
    "def main():\n",
    "\n",
    "    # measure time for some basic examples\n",
    "    t1 = time.time()\n",
    "    \n",
    "    # basic example (not used now)\n",
    "    #examples()\n",
    "    \n",
    "    bondData = get_bonds()    \n",
    "    t2 = time.time()\n",
    "\n",
    "    # save data to file\n",
    "    isStored = store_data(bondData)\n",
    "\n",
    "    t3 = time.time()\n",
    "\n",
    "\n",
    "    print('the time take is:', round(t2-t1, 3) , 'seconds')\n"
   ]
  },
  {
   "cell_type": "code",
   "execution_count": null,
   "metadata": {},
   "outputs": [],
   "source": []
  },
  {
   "cell_type": "code",
   "execution_count": null,
   "metadata": {
    "tags": []
   },
   "outputs": [],
   "source": [
    "\n",
    "\n",
    "if __name__ == \"__main__\":\n",
    "    main()\n",
    "    pass\n",
    "\n"
   ]
  },
  {
   "cell_type": "code",
   "execution_count": null,
   "metadata": {},
   "outputs": [],
   "source": []
  }
 ],
 "metadata": {
  "kernelspec": {
   "display_name": "Python 3.7.7 64-bit",
   "language": "python",
   "name": "python37764bit3547483bfbc24dd7b776db83ec25b074"
  },
  "language_info": {
   "codemirror_mode": {
    "name": "ipython",
    "version": 3
   },
   "file_extension": ".py",
   "mimetype": "text/x-python",
   "name": "python",
   "nbconvert_exporter": "python",
   "pygments_lexer": "ipython3",
   "version": "3.7.7"
  }
 },
 "nbformat": 4,
 "nbformat_minor": 2
}
