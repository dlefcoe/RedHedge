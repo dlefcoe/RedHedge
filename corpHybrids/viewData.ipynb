{
 "cells": [
  {
   "cell_type": "markdown",
   "metadata": {},
   "source": [
    "# View Corporate Hybrids using a Pandas DataFrame\n",
    "\n",
    "## written by Darren Lefcoe\n",
    "### comapny: Redhedge\n",
    "\n",
    "#### contact\n",
    "    @dlefcoe\n",
    "    darren@redhedge.uk\n"
   ]
  },
  {
   "cell_type": "code",
   "execution_count": 3,
   "metadata": {},
   "outputs": [
    {
     "output_type": "execute_result",
     "data": {
      "text/plain": "            Unnamed: 0  ticker  coupon nxt_call_dt final_maturity    mty_typ  \\\n0    BE6309987400 Corp  SOLBBB   4.250  2023-12-04            NaN  PERP/CALL   \n1    DE000A11QR73 Corp  BAYNGR   3.750  2024-07-01     2074-07-01   CALLABLE   \n2    DE000A14J611 Corp  BAYNGR   2.375  2022-10-02     2075-04-02   CALLABLE   \n3    FR0011401728 Corp     EDF   6.000  2026-01-29            NaN  PERP/CALL   \n4    FR0011401751 Corp     EDF   5.375  2025-01-29            NaN  PERP/CALL   \n..                 ...     ...     ...         ...            ...        ...   \n179  XS1150695192 Corp    VLVY   4.850  2023-03-10     2078-03-10   CALLABLE   \n180  XS1797138960 Corp   IBESM   2.625  2024-03-26            NaN  PERP/CALL   \n181  XS1890845875 Corp   IBESM   3.250  2024-11-12            NaN  PERP/CALL   \n182  XS2010044977 Corp   NGGLN   1.625  2024-09-05     2079-12-05   CALLABLE   \n183  XS2187689380 Corp      VW   3.875  2029-06-17            NaN  PERP/CALL   \n\n       px_mid  z_sprd_mid  yas_ispread  yas_bond_yld  yas_risk crncy  \\\n0    104.6900  323.434868   323.483134      2.868082  3.513323   EUR   \n1    103.7775  309.327006   309.276401      2.729846  3.795536   EUR   \n2    100.0660  271.589315   271.535058      2.341884  2.135564   EUR   \n3    107.2040  429.904246   429.528259      4.514247  5.055424   GBP   \n4    109.0010  356.081051   355.929321      3.207152  4.405797   EUR   \n..        ...         ...          ...           ...       ...   ...   \n179  107.4900  229.376925   229.313630      1.919234  2.698211   EUR   \n180  103.5365  199.518463   199.531443      1.629273  3.640112   EUR   \n181  106.6915  206.816244   206.707085      1.715659  4.551200   EUR   \n182   98.5735  234.739388   234.687474      1.987134  3.901362   EUR   \n183   98.9070  425.792946   424.193044      4.022490  7.325198   EUR   \n\n        payment_rank         industry_sector rtg_moody rtg_sp bb_composite  \n0    Jr Subordinated         Basic Materials       Ba1    BB+          BB+  \n1    Jr Subordinated  Consumer, Non-cyclical      Baa3    BB+          BB+  \n2    Jr Subordinated  Consumer, Non-cyclical      Baa3    BB+          BB+  \n3    Jr Subordinated               Utilities      Baa3    BB-          BB+  \n4    Jr Subordinated               Utilities      Baa3    BB-          BB+  \n..               ...                     ...       ...    ...          ...  \n179  Jr Subordinated      Consumer, Cyclical      Baa2    BBB          BBB  \n180  Jr Subordinated               Utilities      Baa3   BBB-         BBB-  \n181  Jr Subordinated               Utilities      Baa3   BBB-         BBB-  \n182  Sr Subordinated               Utilities      Baa3    BBB         BBB-  \n183  Jr Subordinated      Consumer, Cyclical      Baa2    NaN           NR  \n\n[184 rows x 17 columns]",
      "text/html": "<div>\n<style scoped>\n    .dataframe tbody tr th:only-of-type {\n        vertical-align: middle;\n    }\n\n    .dataframe tbody tr th {\n        vertical-align: top;\n    }\n\n    .dataframe thead th {\n        text-align: right;\n    }\n</style>\n<table border=\"1\" class=\"dataframe\">\n  <thead>\n    <tr style=\"text-align: right;\">\n      <th></th>\n      <th>Unnamed: 0</th>\n      <th>ticker</th>\n      <th>coupon</th>\n      <th>nxt_call_dt</th>\n      <th>final_maturity</th>\n      <th>mty_typ</th>\n      <th>px_mid</th>\n      <th>z_sprd_mid</th>\n      <th>yas_ispread</th>\n      <th>yas_bond_yld</th>\n      <th>yas_risk</th>\n      <th>crncy</th>\n      <th>payment_rank</th>\n      <th>industry_sector</th>\n      <th>rtg_moody</th>\n      <th>rtg_sp</th>\n      <th>bb_composite</th>\n    </tr>\n  </thead>\n  <tbody>\n    <tr>\n      <th>0</th>\n      <td>BE6309987400 Corp</td>\n      <td>SOLBBB</td>\n      <td>4.250</td>\n      <td>2023-12-04</td>\n      <td>NaN</td>\n      <td>PERP/CALL</td>\n      <td>104.6900</td>\n      <td>323.434868</td>\n      <td>323.483134</td>\n      <td>2.868082</td>\n      <td>3.513323</td>\n      <td>EUR</td>\n      <td>Jr Subordinated</td>\n      <td>Basic Materials</td>\n      <td>Ba1</td>\n      <td>BB+</td>\n      <td>BB+</td>\n    </tr>\n    <tr>\n      <th>1</th>\n      <td>DE000A11QR73 Corp</td>\n      <td>BAYNGR</td>\n      <td>3.750</td>\n      <td>2024-07-01</td>\n      <td>2074-07-01</td>\n      <td>CALLABLE</td>\n      <td>103.7775</td>\n      <td>309.327006</td>\n      <td>309.276401</td>\n      <td>2.729846</td>\n      <td>3.795536</td>\n      <td>EUR</td>\n      <td>Jr Subordinated</td>\n      <td>Consumer, Non-cyclical</td>\n      <td>Baa3</td>\n      <td>BB+</td>\n      <td>BB+</td>\n    </tr>\n    <tr>\n      <th>2</th>\n      <td>DE000A14J611 Corp</td>\n      <td>BAYNGR</td>\n      <td>2.375</td>\n      <td>2022-10-02</td>\n      <td>2075-04-02</td>\n      <td>CALLABLE</td>\n      <td>100.0660</td>\n      <td>271.589315</td>\n      <td>271.535058</td>\n      <td>2.341884</td>\n      <td>2.135564</td>\n      <td>EUR</td>\n      <td>Jr Subordinated</td>\n      <td>Consumer, Non-cyclical</td>\n      <td>Baa3</td>\n      <td>BB+</td>\n      <td>BB+</td>\n    </tr>\n    <tr>\n      <th>3</th>\n      <td>FR0011401728 Corp</td>\n      <td>EDF</td>\n      <td>6.000</td>\n      <td>2026-01-29</td>\n      <td>NaN</td>\n      <td>PERP/CALL</td>\n      <td>107.2040</td>\n      <td>429.904246</td>\n      <td>429.528259</td>\n      <td>4.514247</td>\n      <td>5.055424</td>\n      <td>GBP</td>\n      <td>Jr Subordinated</td>\n      <td>Utilities</td>\n      <td>Baa3</td>\n      <td>BB-</td>\n      <td>BB+</td>\n    </tr>\n    <tr>\n      <th>4</th>\n      <td>FR0011401751 Corp</td>\n      <td>EDF</td>\n      <td>5.375</td>\n      <td>2025-01-29</td>\n      <td>NaN</td>\n      <td>PERP/CALL</td>\n      <td>109.0010</td>\n      <td>356.081051</td>\n      <td>355.929321</td>\n      <td>3.207152</td>\n      <td>4.405797</td>\n      <td>EUR</td>\n      <td>Jr Subordinated</td>\n      <td>Utilities</td>\n      <td>Baa3</td>\n      <td>BB-</td>\n      <td>BB+</td>\n    </tr>\n    <tr>\n      <th>...</th>\n      <td>...</td>\n      <td>...</td>\n      <td>...</td>\n      <td>...</td>\n      <td>...</td>\n      <td>...</td>\n      <td>...</td>\n      <td>...</td>\n      <td>...</td>\n      <td>...</td>\n      <td>...</td>\n      <td>...</td>\n      <td>...</td>\n      <td>...</td>\n      <td>...</td>\n      <td>...</td>\n      <td>...</td>\n    </tr>\n    <tr>\n      <th>179</th>\n      <td>XS1150695192 Corp</td>\n      <td>VLVY</td>\n      <td>4.850</td>\n      <td>2023-03-10</td>\n      <td>2078-03-10</td>\n      <td>CALLABLE</td>\n      <td>107.4900</td>\n      <td>229.376925</td>\n      <td>229.313630</td>\n      <td>1.919234</td>\n      <td>2.698211</td>\n      <td>EUR</td>\n      <td>Jr Subordinated</td>\n      <td>Consumer, Cyclical</td>\n      <td>Baa2</td>\n      <td>BBB</td>\n      <td>BBB</td>\n    </tr>\n    <tr>\n      <th>180</th>\n      <td>XS1797138960 Corp</td>\n      <td>IBESM</td>\n      <td>2.625</td>\n      <td>2024-03-26</td>\n      <td>NaN</td>\n      <td>PERP/CALL</td>\n      <td>103.5365</td>\n      <td>199.518463</td>\n      <td>199.531443</td>\n      <td>1.629273</td>\n      <td>3.640112</td>\n      <td>EUR</td>\n      <td>Jr Subordinated</td>\n      <td>Utilities</td>\n      <td>Baa3</td>\n      <td>BBB-</td>\n      <td>BBB-</td>\n    </tr>\n    <tr>\n      <th>181</th>\n      <td>XS1890845875 Corp</td>\n      <td>IBESM</td>\n      <td>3.250</td>\n      <td>2024-11-12</td>\n      <td>NaN</td>\n      <td>PERP/CALL</td>\n      <td>106.6915</td>\n      <td>206.816244</td>\n      <td>206.707085</td>\n      <td>1.715659</td>\n      <td>4.551200</td>\n      <td>EUR</td>\n      <td>Jr Subordinated</td>\n      <td>Utilities</td>\n      <td>Baa3</td>\n      <td>BBB-</td>\n      <td>BBB-</td>\n    </tr>\n    <tr>\n      <th>182</th>\n      <td>XS2010044977 Corp</td>\n      <td>NGGLN</td>\n      <td>1.625</td>\n      <td>2024-09-05</td>\n      <td>2079-12-05</td>\n      <td>CALLABLE</td>\n      <td>98.5735</td>\n      <td>234.739388</td>\n      <td>234.687474</td>\n      <td>1.987134</td>\n      <td>3.901362</td>\n      <td>EUR</td>\n      <td>Sr Subordinated</td>\n      <td>Utilities</td>\n      <td>Baa3</td>\n      <td>BBB</td>\n      <td>BBB-</td>\n    </tr>\n    <tr>\n      <th>183</th>\n      <td>XS2187689380 Corp</td>\n      <td>VW</td>\n      <td>3.875</td>\n      <td>2029-06-17</td>\n      <td>NaN</td>\n      <td>PERP/CALL</td>\n      <td>98.9070</td>\n      <td>425.792946</td>\n      <td>424.193044</td>\n      <td>4.022490</td>\n      <td>7.325198</td>\n      <td>EUR</td>\n      <td>Jr Subordinated</td>\n      <td>Consumer, Cyclical</td>\n      <td>Baa2</td>\n      <td>NaN</td>\n      <td>NR</td>\n    </tr>\n  </tbody>\n</table>\n<p>184 rows × 17 columns</p>\n</div>"
     },
     "metadata": {},
     "execution_count": 3
    }
   ],
   "source": [
    "import pandas as pd\n",
    "\n",
    "df = pd.read_csv('./dataFolder/csvData/hybrids_results 2020-07-14 21_22_23.csv')\n",
    "\n",
    "df"
   ]
  },
  {
   "cell_type": "code",
   "execution_count": 39,
   "metadata": {},
   "outputs": [
    {
     "output_type": "execute_result",
     "data": {
      "text/plain": "          Unnamed: 0  ticker  coupon nxt_call_dt final_maturity    mty_typ  \\\n0  BE6309987400 Corp  SOLBBB   4.250  2023-12-04            NaN  PERP/CALL   \n1  DE000A11QR73 Corp  BAYNGR   3.750  2024-07-01     2074-07-01   CALLABLE   \n2  DE000A14J611 Corp  BAYNGR   2.375  2022-10-02     2075-04-02   CALLABLE   \n3  FR0011401728 Corp     EDF   6.000  2026-01-29            NaN  PERP/CALL   \n4  FR0011401751 Corp     EDF   5.375  2025-01-29            NaN  PERP/CALL   \n\n     px_mid  z_sprd_mid  yas_ispread  yas_bond_yld  yas_risk crncy  \\\n0  104.6900  323.434868   323.483134      2.868082  3.513323   EUR   \n1  103.7775  309.327006   309.276401      2.729846  3.795536   EUR   \n2  100.0660  271.589315   271.535058      2.341884  2.135564   EUR   \n3  107.2040  429.904246   429.528259      4.514247  5.055424   GBP   \n4  109.0010  356.081051   355.929321      3.207152  4.405797   EUR   \n\n      payment_rank         industry_sector rtg_moody rtg_sp bb_composite  \n0  Jr Subordinated         Basic Materials       Ba1    BB+          BB+  \n1  Jr Subordinated  Consumer, Non-cyclical      Baa3    BB+          BB+  \n2  Jr Subordinated  Consumer, Non-cyclical      Baa3    BB+          BB+  \n3  Jr Subordinated               Utilities      Baa3    BB-          BB+  \n4  Jr Subordinated               Utilities      Baa3    BB-          BB+  ",
      "text/html": "<div>\n<style scoped>\n    .dataframe tbody tr th:only-of-type {\n        vertical-align: middle;\n    }\n\n    .dataframe tbody tr th {\n        vertical-align: top;\n    }\n\n    .dataframe thead th {\n        text-align: right;\n    }\n</style>\n<table border=\"1\" class=\"dataframe\">\n  <thead>\n    <tr style=\"text-align: right;\">\n      <th></th>\n      <th>Unnamed: 0</th>\n      <th>ticker</th>\n      <th>coupon</th>\n      <th>nxt_call_dt</th>\n      <th>final_maturity</th>\n      <th>mty_typ</th>\n      <th>px_mid</th>\n      <th>z_sprd_mid</th>\n      <th>yas_ispread</th>\n      <th>yas_bond_yld</th>\n      <th>yas_risk</th>\n      <th>crncy</th>\n      <th>payment_rank</th>\n      <th>industry_sector</th>\n      <th>rtg_moody</th>\n      <th>rtg_sp</th>\n      <th>bb_composite</th>\n    </tr>\n  </thead>\n  <tbody>\n    <tr>\n      <th>0</th>\n      <td>BE6309987400 Corp</td>\n      <td>SOLBBB</td>\n      <td>4.250</td>\n      <td>2023-12-04</td>\n      <td>NaN</td>\n      <td>PERP/CALL</td>\n      <td>104.6900</td>\n      <td>323.434868</td>\n      <td>323.483134</td>\n      <td>2.868082</td>\n      <td>3.513323</td>\n      <td>EUR</td>\n      <td>Jr Subordinated</td>\n      <td>Basic Materials</td>\n      <td>Ba1</td>\n      <td>BB+</td>\n      <td>BB+</td>\n    </tr>\n    <tr>\n      <th>1</th>\n      <td>DE000A11QR73 Corp</td>\n      <td>BAYNGR</td>\n      <td>3.750</td>\n      <td>2024-07-01</td>\n      <td>2074-07-01</td>\n      <td>CALLABLE</td>\n      <td>103.7775</td>\n      <td>309.327006</td>\n      <td>309.276401</td>\n      <td>2.729846</td>\n      <td>3.795536</td>\n      <td>EUR</td>\n      <td>Jr Subordinated</td>\n      <td>Consumer, Non-cyclical</td>\n      <td>Baa3</td>\n      <td>BB+</td>\n      <td>BB+</td>\n    </tr>\n    <tr>\n      <th>2</th>\n      <td>DE000A14J611 Corp</td>\n      <td>BAYNGR</td>\n      <td>2.375</td>\n      <td>2022-10-02</td>\n      <td>2075-04-02</td>\n      <td>CALLABLE</td>\n      <td>100.0660</td>\n      <td>271.589315</td>\n      <td>271.535058</td>\n      <td>2.341884</td>\n      <td>2.135564</td>\n      <td>EUR</td>\n      <td>Jr Subordinated</td>\n      <td>Consumer, Non-cyclical</td>\n      <td>Baa3</td>\n      <td>BB+</td>\n      <td>BB+</td>\n    </tr>\n    <tr>\n      <th>3</th>\n      <td>FR0011401728 Corp</td>\n      <td>EDF</td>\n      <td>6.000</td>\n      <td>2026-01-29</td>\n      <td>NaN</td>\n      <td>PERP/CALL</td>\n      <td>107.2040</td>\n      <td>429.904246</td>\n      <td>429.528259</td>\n      <td>4.514247</td>\n      <td>5.055424</td>\n      <td>GBP</td>\n      <td>Jr Subordinated</td>\n      <td>Utilities</td>\n      <td>Baa3</td>\n      <td>BB-</td>\n      <td>BB+</td>\n    </tr>\n    <tr>\n      <th>4</th>\n      <td>FR0011401751 Corp</td>\n      <td>EDF</td>\n      <td>5.375</td>\n      <td>2025-01-29</td>\n      <td>NaN</td>\n      <td>PERP/CALL</td>\n      <td>109.0010</td>\n      <td>356.081051</td>\n      <td>355.929321</td>\n      <td>3.207152</td>\n      <td>4.405797</td>\n      <td>EUR</td>\n      <td>Jr Subordinated</td>\n      <td>Utilities</td>\n      <td>Baa3</td>\n      <td>BB-</td>\n      <td>BB+</td>\n    </tr>\n  </tbody>\n</table>\n</div>"
     },
     "metadata": {},
     "execution_count": 39
    }
   ],
   "source": [
    "df.head()"
   ]
  },
  {
   "cell_type": "code",
   "execution_count": 40,
   "metadata": {},
   "outputs": [
    {
     "output_type": "execute_result",
     "data": {
      "text/plain": "            Unnamed: 0 ticker  coupon nxt_call_dt final_maturity    mty_typ  \\\n179  XS1150695192 Corp   VLVY   4.850  2023-03-10     2078-03-10   CALLABLE   \n180  XS1797138960 Corp  IBESM   2.625  2024-03-26            NaN  PERP/CALL   \n181  XS1890845875 Corp  IBESM   3.250  2024-11-12            NaN  PERP/CALL   \n182  XS2010044977 Corp  NGGLN   1.625  2024-09-05     2079-12-05   CALLABLE   \n183  XS2187689380 Corp     VW   3.875  2029-06-17            NaN  PERP/CALL   \n\n       px_mid  z_sprd_mid  yas_ispread  yas_bond_yld  yas_risk crncy  \\\n179  107.4900  229.376925   229.313630      1.919234  2.698211   EUR   \n180  103.5365  199.518463   199.531443      1.629273  3.640112   EUR   \n181  106.6915  206.816244   206.707085      1.715659  4.551200   EUR   \n182   98.5735  234.739388   234.687474      1.987134  3.901362   EUR   \n183   98.9070  425.792946   424.193044      4.022490  7.325198   EUR   \n\n        payment_rank     industry_sector rtg_moody rtg_sp bb_composite  \n179  Jr Subordinated  Consumer, Cyclical      Baa2    BBB          BBB  \n180  Jr Subordinated           Utilities      Baa3   BBB-         BBB-  \n181  Jr Subordinated           Utilities      Baa3   BBB-         BBB-  \n182  Sr Subordinated           Utilities      Baa3    BBB         BBB-  \n183  Jr Subordinated  Consumer, Cyclical      Baa2    NaN           NR  ",
      "text/html": "<div>\n<style scoped>\n    .dataframe tbody tr th:only-of-type {\n        vertical-align: middle;\n    }\n\n    .dataframe tbody tr th {\n        vertical-align: top;\n    }\n\n    .dataframe thead th {\n        text-align: right;\n    }\n</style>\n<table border=\"1\" class=\"dataframe\">\n  <thead>\n    <tr style=\"text-align: right;\">\n      <th></th>\n      <th>Unnamed: 0</th>\n      <th>ticker</th>\n      <th>coupon</th>\n      <th>nxt_call_dt</th>\n      <th>final_maturity</th>\n      <th>mty_typ</th>\n      <th>px_mid</th>\n      <th>z_sprd_mid</th>\n      <th>yas_ispread</th>\n      <th>yas_bond_yld</th>\n      <th>yas_risk</th>\n      <th>crncy</th>\n      <th>payment_rank</th>\n      <th>industry_sector</th>\n      <th>rtg_moody</th>\n      <th>rtg_sp</th>\n      <th>bb_composite</th>\n    </tr>\n  </thead>\n  <tbody>\n    <tr>\n      <th>179</th>\n      <td>XS1150695192 Corp</td>\n      <td>VLVY</td>\n      <td>4.850</td>\n      <td>2023-03-10</td>\n      <td>2078-03-10</td>\n      <td>CALLABLE</td>\n      <td>107.4900</td>\n      <td>229.376925</td>\n      <td>229.313630</td>\n      <td>1.919234</td>\n      <td>2.698211</td>\n      <td>EUR</td>\n      <td>Jr Subordinated</td>\n      <td>Consumer, Cyclical</td>\n      <td>Baa2</td>\n      <td>BBB</td>\n      <td>BBB</td>\n    </tr>\n    <tr>\n      <th>180</th>\n      <td>XS1797138960 Corp</td>\n      <td>IBESM</td>\n      <td>2.625</td>\n      <td>2024-03-26</td>\n      <td>NaN</td>\n      <td>PERP/CALL</td>\n      <td>103.5365</td>\n      <td>199.518463</td>\n      <td>199.531443</td>\n      <td>1.629273</td>\n      <td>3.640112</td>\n      <td>EUR</td>\n      <td>Jr Subordinated</td>\n      <td>Utilities</td>\n      <td>Baa3</td>\n      <td>BBB-</td>\n      <td>BBB-</td>\n    </tr>\n    <tr>\n      <th>181</th>\n      <td>XS1890845875 Corp</td>\n      <td>IBESM</td>\n      <td>3.250</td>\n      <td>2024-11-12</td>\n      <td>NaN</td>\n      <td>PERP/CALL</td>\n      <td>106.6915</td>\n      <td>206.816244</td>\n      <td>206.707085</td>\n      <td>1.715659</td>\n      <td>4.551200</td>\n      <td>EUR</td>\n      <td>Jr Subordinated</td>\n      <td>Utilities</td>\n      <td>Baa3</td>\n      <td>BBB-</td>\n      <td>BBB-</td>\n    </tr>\n    <tr>\n      <th>182</th>\n      <td>XS2010044977 Corp</td>\n      <td>NGGLN</td>\n      <td>1.625</td>\n      <td>2024-09-05</td>\n      <td>2079-12-05</td>\n      <td>CALLABLE</td>\n      <td>98.5735</td>\n      <td>234.739388</td>\n      <td>234.687474</td>\n      <td>1.987134</td>\n      <td>3.901362</td>\n      <td>EUR</td>\n      <td>Sr Subordinated</td>\n      <td>Utilities</td>\n      <td>Baa3</td>\n      <td>BBB</td>\n      <td>BBB-</td>\n    </tr>\n    <tr>\n      <th>183</th>\n      <td>XS2187689380 Corp</td>\n      <td>VW</td>\n      <td>3.875</td>\n      <td>2029-06-17</td>\n      <td>NaN</td>\n      <td>PERP/CALL</td>\n      <td>98.9070</td>\n      <td>425.792946</td>\n      <td>424.193044</td>\n      <td>4.022490</td>\n      <td>7.325198</td>\n      <td>EUR</td>\n      <td>Jr Subordinated</td>\n      <td>Consumer, Cyclical</td>\n      <td>Baa2</td>\n      <td>NaN</td>\n      <td>NR</td>\n    </tr>\n  </tbody>\n</table>\n</div>"
     },
     "metadata": {},
     "execution_count": 40
    }
   ],
   "source": [
    "df.tail()"
   ]
  },
  {
   "cell_type": "markdown",
   "metadata": {},
   "source": [
    "# Get column headers"
   ]
  },
  {
   "cell_type": "code",
   "execution_count": 41,
   "metadata": {},
   "outputs": [
    {
     "output_type": "execute_result",
     "data": {
      "text/plain": "Index(['Unnamed: 0', 'ticker', 'coupon', 'nxt_call_dt', 'final_maturity',\n       'mty_typ', 'px_mid', 'z_sprd_mid', 'yas_ispread', 'yas_bond_yld',\n       'yas_risk', 'crncy', 'payment_rank', 'industry_sector', 'rtg_moody',\n       'rtg_sp', 'bb_composite'],\n      dtype='object')"
     },
     "metadata": {},
     "execution_count": 41
    }
   ],
   "source": [
    "df.columns"
   ]
  },
  {
   "cell_type": "code",
   "execution_count": 42,
   "metadata": {},
   "outputs": [
    {
     "output_type": "execute_result",
     "data": {
      "text/plain": "0      SOLBBB\n1      BAYNGR\n2      BAYNGR\n3         EDF\n4         EDF\n        ...  \n179      VLVY\n180     IBESM\n181     IBESM\n182     NGGLN\n183        VW\nName: ticker, Length: 184, dtype: object"
     },
     "metadata": {},
     "execution_count": 42
    }
   ],
   "source": [
    "df['ticker']"
   ]
  },
  {
   "cell_type": "code",
   "execution_count": 43,
   "metadata": {},
   "outputs": [
    {
     "output_type": "execute_result",
     "data": {
      "text/plain": "0      SOLBBB\n1      BAYNGR\n2      BAYNGR\n3         EDF\n4         EDF\n        ...  \n179      VLVY\n180     IBESM\n181     IBESM\n182     NGGLN\n183        VW\nName: ticker, Length: 184, dtype: object"
     },
     "metadata": {},
     "execution_count": 43
    }
   ],
   "source": [
    "df.ticker"
   ]
  },
  {
   "cell_type": "code",
   "execution_count": 44,
   "metadata": {},
   "outputs": [
    {
     "output_type": "execute_result",
     "data": {
      "text/plain": "0      EUR\n1      EUR\n2      EUR\n3      GBP\n4      EUR\n      ... \n179    EUR\n180    EUR\n181    EUR\n182    EUR\n183    EUR\nName: crncy, Length: 184, dtype: object"
     },
     "metadata": {},
     "execution_count": 44
    }
   ],
   "source": [
    "df.crncy"
   ]
  },
  {
   "cell_type": "code",
   "execution_count": 45,
   "metadata": {},
   "outputs": [
    {
     "output_type": "execute_result",
     "data": {
      "text/plain": "       Unnamed: 0  ticker  coupon  nxt_call_dt  final_maturity  mty_typ  \\\ncrncy                                                                     \nEUR           152     152     152          149              50      152   \nGBP            16      16      16           16               8       16   \nUSD            16      16      16           16              10       16   \n\n       px_mid  z_sprd_mid  yas_ispread  yas_bond_yld  yas_risk  payment_rank  \\\ncrncy                                                                          \nEUR       150         149          148           149       149           152   \nGBP        16          16           16            16        16            16   \nUSD        16          16           16            16        16            16   \n\n       industry_sector  rtg_moody  rtg_sp  bb_composite  \ncrncy                                                    \nEUR                152        126     137           147  \nGBP                 16         13      14            15  \nUSD                 16         14      15            15  ",
      "text/html": "<div>\n<style scoped>\n    .dataframe tbody tr th:only-of-type {\n        vertical-align: middle;\n    }\n\n    .dataframe tbody tr th {\n        vertical-align: top;\n    }\n\n    .dataframe thead th {\n        text-align: right;\n    }\n</style>\n<table border=\"1\" class=\"dataframe\">\n  <thead>\n    <tr style=\"text-align: right;\">\n      <th></th>\n      <th>Unnamed: 0</th>\n      <th>ticker</th>\n      <th>coupon</th>\n      <th>nxt_call_dt</th>\n      <th>final_maturity</th>\n      <th>mty_typ</th>\n      <th>px_mid</th>\n      <th>z_sprd_mid</th>\n      <th>yas_ispread</th>\n      <th>yas_bond_yld</th>\n      <th>yas_risk</th>\n      <th>payment_rank</th>\n      <th>industry_sector</th>\n      <th>rtg_moody</th>\n      <th>rtg_sp</th>\n      <th>bb_composite</th>\n    </tr>\n    <tr>\n      <th>crncy</th>\n      <th></th>\n      <th></th>\n      <th></th>\n      <th></th>\n      <th></th>\n      <th></th>\n      <th></th>\n      <th></th>\n      <th></th>\n      <th></th>\n      <th></th>\n      <th></th>\n      <th></th>\n      <th></th>\n      <th></th>\n      <th></th>\n    </tr>\n  </thead>\n  <tbody>\n    <tr>\n      <th>EUR</th>\n      <td>152</td>\n      <td>152</td>\n      <td>152</td>\n      <td>149</td>\n      <td>50</td>\n      <td>152</td>\n      <td>150</td>\n      <td>149</td>\n      <td>148</td>\n      <td>149</td>\n      <td>149</td>\n      <td>152</td>\n      <td>152</td>\n      <td>126</td>\n      <td>137</td>\n      <td>147</td>\n    </tr>\n    <tr>\n      <th>GBP</th>\n      <td>16</td>\n      <td>16</td>\n      <td>16</td>\n      <td>16</td>\n      <td>8</td>\n      <td>16</td>\n      <td>16</td>\n      <td>16</td>\n      <td>16</td>\n      <td>16</td>\n      <td>16</td>\n      <td>16</td>\n      <td>16</td>\n      <td>13</td>\n      <td>14</td>\n      <td>15</td>\n    </tr>\n    <tr>\n      <th>USD</th>\n      <td>16</td>\n      <td>16</td>\n      <td>16</td>\n      <td>16</td>\n      <td>10</td>\n      <td>16</td>\n      <td>16</td>\n      <td>16</td>\n      <td>16</td>\n      <td>16</td>\n      <td>16</td>\n      <td>16</td>\n      <td>16</td>\n      <td>14</td>\n      <td>15</td>\n      <td>15</td>\n    </tr>\n  </tbody>\n</table>\n</div>"
     },
     "metadata": {},
     "execution_count": 45
    }
   ],
   "source": [
    "df.groupby('crncy').count()"
   ]
  },
  {
   "cell_type": "markdown",
   "metadata": {},
   "source": [
    "## get the average for different currencies"
   ]
  },
  {
   "cell_type": "code",
   "execution_count": 46,
   "metadata": {},
   "outputs": [
    {
     "output_type": "execute_result",
     "data": {
      "text/plain": "         coupon      px_mid  z_sprd_mid  yas_ispread  yas_bond_yld  yas_risk\ncrncy                                                                       \nEUR    3.403586  100.675667  368.068623   364.978548      3.305828  3.654082\nGBP    5.914062  103.933875  308.137716   307.588676      3.269776  2.707088\nUSD    6.279687  104.646750  481.117813   479.450540      5.083367  3.326529",
      "text/html": "<div>\n<style scoped>\n    .dataframe tbody tr th:only-of-type {\n        vertical-align: middle;\n    }\n\n    .dataframe tbody tr th {\n        vertical-align: top;\n    }\n\n    .dataframe thead th {\n        text-align: right;\n    }\n</style>\n<table border=\"1\" class=\"dataframe\">\n  <thead>\n    <tr style=\"text-align: right;\">\n      <th></th>\n      <th>coupon</th>\n      <th>px_mid</th>\n      <th>z_sprd_mid</th>\n      <th>yas_ispread</th>\n      <th>yas_bond_yld</th>\n      <th>yas_risk</th>\n    </tr>\n    <tr>\n      <th>crncy</th>\n      <th></th>\n      <th></th>\n      <th></th>\n      <th></th>\n      <th></th>\n      <th></th>\n    </tr>\n  </thead>\n  <tbody>\n    <tr>\n      <th>EUR</th>\n      <td>3.403586</td>\n      <td>100.675667</td>\n      <td>368.068623</td>\n      <td>364.978548</td>\n      <td>3.305828</td>\n      <td>3.654082</td>\n    </tr>\n    <tr>\n      <th>GBP</th>\n      <td>5.914062</td>\n      <td>103.933875</td>\n      <td>308.137716</td>\n      <td>307.588676</td>\n      <td>3.269776</td>\n      <td>2.707088</td>\n    </tr>\n    <tr>\n      <th>USD</th>\n      <td>6.279687</td>\n      <td>104.646750</td>\n      <td>481.117813</td>\n      <td>479.450540</td>\n      <td>5.083367</td>\n      <td>3.326529</td>\n    </tr>\n  </tbody>\n</table>\n</div>"
     },
     "metadata": {},
     "execution_count": 46
    }
   ],
   "source": [
    "df.groupby('crncy').mean()"
   ]
  },
  {
   "cell_type": "markdown",
   "metadata": {},
   "source": [
    "## group by moodys rating"
   ]
  },
  {
   "cell_type": "code",
   "execution_count": 47,
   "metadata": {},
   "outputs": [
    {
     "output_type": "execute_result",
     "data": {
      "text/plain": "             coupon      px_mid   z_sprd_mid  yas_ispread  yas_bond_yld  \\\nrtg_moody                                                                 \nA2         2.305778  101.515444   210.746312   210.649263      1.770312   \nB2         2.697000   79.748500   417.308307          NaN      3.342113   \nB2u        6.437500   94.875000   767.774116   766.369438      8.007815   \nBa1        4.536437  103.435125   354.394150   353.750287      3.325047   \nBa1u       3.750000  102.320750   319.397844   319.402599      2.824674   \nBa2        3.895188  101.591633   350.581521   350.102849      3.243479   \nBa2u       3.000000   97.111500   454.773452   454.582396      4.171930   \nBa3        5.000000  100.769500   390.469250   389.484239      3.542260   \nBaa1       5.975000  109.028900   235.920573   235.473877      2.364887   \nBaa2       3.783065  101.820855   318.760844   318.466962      2.902712   \nBaa3       3.415769  102.729696   268.911569   268.751787      2.451388   \nCaa1       3.992000   51.701000  2699.383058  2699.422373     26.626412   \n\n           yas_risk  \nrtg_moody            \nA2         4.104731  \nB2         0.133745  \nB2u        3.864689  \nBa1        3.804685  \nBa1u       2.926313  \nBa2        3.843294  \nBa2u       2.406352  \nBa3        0.573403  \nBaa1       2.633217  \nBaa2       3.632946  \nBaa3       3.687641  \nCaa1       1.353586  ",
      "text/html": "<div>\n<style scoped>\n    .dataframe tbody tr th:only-of-type {\n        vertical-align: middle;\n    }\n\n    .dataframe tbody tr th {\n        vertical-align: top;\n    }\n\n    .dataframe thead th {\n        text-align: right;\n    }\n</style>\n<table border=\"1\" class=\"dataframe\">\n  <thead>\n    <tr style=\"text-align: right;\">\n      <th></th>\n      <th>coupon</th>\n      <th>px_mid</th>\n      <th>z_sprd_mid</th>\n      <th>yas_ispread</th>\n      <th>yas_bond_yld</th>\n      <th>yas_risk</th>\n    </tr>\n    <tr>\n      <th>rtg_moody</th>\n      <th></th>\n      <th></th>\n      <th></th>\n      <th></th>\n      <th></th>\n      <th></th>\n    </tr>\n  </thead>\n  <tbody>\n    <tr>\n      <th>A2</th>\n      <td>2.305778</td>\n      <td>101.515444</td>\n      <td>210.746312</td>\n      <td>210.649263</td>\n      <td>1.770312</td>\n      <td>4.104731</td>\n    </tr>\n    <tr>\n      <th>B2</th>\n      <td>2.697000</td>\n      <td>79.748500</td>\n      <td>417.308307</td>\n      <td>NaN</td>\n      <td>3.342113</td>\n      <td>0.133745</td>\n    </tr>\n    <tr>\n      <th>B2u</th>\n      <td>6.437500</td>\n      <td>94.875000</td>\n      <td>767.774116</td>\n      <td>766.369438</td>\n      <td>8.007815</td>\n      <td>3.864689</td>\n    </tr>\n    <tr>\n      <th>Ba1</th>\n      <td>4.536437</td>\n      <td>103.435125</td>\n      <td>354.394150</td>\n      <td>353.750287</td>\n      <td>3.325047</td>\n      <td>3.804685</td>\n    </tr>\n    <tr>\n      <th>Ba1u</th>\n      <td>3.750000</td>\n      <td>102.320750</td>\n      <td>319.397844</td>\n      <td>319.402599</td>\n      <td>2.824674</td>\n      <td>2.926313</td>\n    </tr>\n    <tr>\n      <th>Ba2</th>\n      <td>3.895188</td>\n      <td>101.591633</td>\n      <td>350.581521</td>\n      <td>350.102849</td>\n      <td>3.243479</td>\n      <td>3.843294</td>\n    </tr>\n    <tr>\n      <th>Ba2u</th>\n      <td>3.000000</td>\n      <td>97.111500</td>\n      <td>454.773452</td>\n      <td>454.582396</td>\n      <td>4.171930</td>\n      <td>2.406352</td>\n    </tr>\n    <tr>\n      <th>Ba3</th>\n      <td>5.000000</td>\n      <td>100.769500</td>\n      <td>390.469250</td>\n      <td>389.484239</td>\n      <td>3.542260</td>\n      <td>0.573403</td>\n    </tr>\n    <tr>\n      <th>Baa1</th>\n      <td>5.975000</td>\n      <td>109.028900</td>\n      <td>235.920573</td>\n      <td>235.473877</td>\n      <td>2.364887</td>\n      <td>2.633217</td>\n    </tr>\n    <tr>\n      <th>Baa2</th>\n      <td>3.783065</td>\n      <td>101.820855</td>\n      <td>318.760844</td>\n      <td>318.466962</td>\n      <td>2.902712</td>\n      <td>3.632946</td>\n    </tr>\n    <tr>\n      <th>Baa3</th>\n      <td>3.415769</td>\n      <td>102.729696</td>\n      <td>268.911569</td>\n      <td>268.751787</td>\n      <td>2.451388</td>\n      <td>3.687641</td>\n    </tr>\n    <tr>\n      <th>Caa1</th>\n      <td>3.992000</td>\n      <td>51.701000</td>\n      <td>2699.383058</td>\n      <td>2699.422373</td>\n      <td>26.626412</td>\n      <td>1.353586</td>\n    </tr>\n  </tbody>\n</table>\n</div>"
     },
     "metadata": {},
     "execution_count": 47
    }
   ],
   "source": [
    "df.groupby('rtg_moody').mean()"
   ]
  },
  {
   "cell_type": "code",
   "execution_count": 51,
   "metadata": {},
   "outputs": [
    {
     "output_type": "execute_result",
     "data": {
      "text/plain": "                coupon      px_mid   z_sprd_mid  yas_ispread  yas_bond_yld  \\\nbb_composite                                                                 \nA             2.125000  104.933500   165.484346   165.068036      1.347905   \nA-            2.762833  102.685750   225.405638   225.432503      1.899921   \nB             2.697000   79.748500   417.308307          NaN      3.342113   \nBB            3.954217  100.157909   396.611491   396.256058      3.675279   \nBB+           4.061568  102.787512   357.929728   357.265005      3.344203   \nBBB           3.306667  102.482933   276.649502   276.494193      2.416433   \nBBB+          4.632143  105.714071   226.063599   225.615987      2.184127   \nBBB-          3.783673  102.795904   270.657077   270.561123      2.488428   \nCCC           3.992000   51.701000  2699.383058  2699.422373     26.626412   \nNR            3.783538   98.062500   553.465357   540.882682      5.181301   \n\n              yas_risk  \nbb_composite            \nA             6.201016  \nA-            3.209975  \nB             0.133745  \nBB            3.634111  \nBB+           4.117497  \nBBB           3.610609  \nBBB+          3.709729  \nBBB-          3.319104  \nCCC           1.353586  \nNR            3.369237  ",
      "text/html": "<div>\n<style scoped>\n    .dataframe tbody tr th:only-of-type {\n        vertical-align: middle;\n    }\n\n    .dataframe tbody tr th {\n        vertical-align: top;\n    }\n\n    .dataframe thead th {\n        text-align: right;\n    }\n</style>\n<table border=\"1\" class=\"dataframe\">\n  <thead>\n    <tr style=\"text-align: right;\">\n      <th></th>\n      <th>coupon</th>\n      <th>px_mid</th>\n      <th>z_sprd_mid</th>\n      <th>yas_ispread</th>\n      <th>yas_bond_yld</th>\n      <th>yas_risk</th>\n    </tr>\n    <tr>\n      <th>bb_composite</th>\n      <th></th>\n      <th></th>\n      <th></th>\n      <th></th>\n      <th></th>\n      <th></th>\n    </tr>\n  </thead>\n  <tbody>\n    <tr>\n      <th>A</th>\n      <td>2.125000</td>\n      <td>104.933500</td>\n      <td>165.484346</td>\n      <td>165.068036</td>\n      <td>1.347905</td>\n      <td>6.201016</td>\n    </tr>\n    <tr>\n      <th>A-</th>\n      <td>2.762833</td>\n      <td>102.685750</td>\n      <td>225.405638</td>\n      <td>225.432503</td>\n      <td>1.899921</td>\n      <td>3.209975</td>\n    </tr>\n    <tr>\n      <th>B</th>\n      <td>2.697000</td>\n      <td>79.748500</td>\n      <td>417.308307</td>\n      <td>NaN</td>\n      <td>3.342113</td>\n      <td>0.133745</td>\n    </tr>\n    <tr>\n      <th>BB</th>\n      <td>3.954217</td>\n      <td>100.157909</td>\n      <td>396.611491</td>\n      <td>396.256058</td>\n      <td>3.675279</td>\n      <td>3.634111</td>\n    </tr>\n    <tr>\n      <th>BB+</th>\n      <td>4.061568</td>\n      <td>102.787512</td>\n      <td>357.929728</td>\n      <td>357.265005</td>\n      <td>3.344203</td>\n      <td>4.117497</td>\n    </tr>\n    <tr>\n      <th>BBB</th>\n      <td>3.306667</td>\n      <td>102.482933</td>\n      <td>276.649502</td>\n      <td>276.494193</td>\n      <td>2.416433</td>\n      <td>3.610609</td>\n    </tr>\n    <tr>\n      <th>BBB+</th>\n      <td>4.632143</td>\n      <td>105.714071</td>\n      <td>226.063599</td>\n      <td>225.615987</td>\n      <td>2.184127</td>\n      <td>3.709729</td>\n    </tr>\n    <tr>\n      <th>BBB-</th>\n      <td>3.783673</td>\n      <td>102.795904</td>\n      <td>270.657077</td>\n      <td>270.561123</td>\n      <td>2.488428</td>\n      <td>3.319104</td>\n    </tr>\n    <tr>\n      <th>CCC</th>\n      <td>3.992000</td>\n      <td>51.701000</td>\n      <td>2699.383058</td>\n      <td>2699.422373</td>\n      <td>26.626412</td>\n      <td>1.353586</td>\n    </tr>\n    <tr>\n      <th>NR</th>\n      <td>3.783538</td>\n      <td>98.062500</td>\n      <td>553.465357</td>\n      <td>540.882682</td>\n      <td>5.181301</td>\n      <td>3.369237</td>\n    </tr>\n  </tbody>\n</table>\n</div>"
     },
     "metadata": {},
     "execution_count": 51
    }
   ],
   "source": [
    "df.groupby('bb_composite').mean()\n"
   ]
  },
  {
   "cell_type": "code",
   "execution_count": 52,
   "metadata": {},
   "outputs": [
    {
     "output_type": "execute_result",
     "data": {
      "text/plain": "                coupon    px_mid  z_sprd_mid  yas_ispread  yas_bond_yld  \\\nbb_composite                                                              \nA             0.707107  3.200365   34.002925    33.604843      0.394674   \nA-            0.763569  2.975288   10.630264    10.457477      0.120428   \nB                  NaN       NaN         NaN          NaN           NaN   \nBB            1.455059  6.313157  105.762200   105.738382      1.057726   \nBB+           1.316171  5.084433   86.303657    85.834959      0.968551   \nBBB           1.440315  7.308772  137.134022   137.084951      1.370679   \nBBB+          2.392467  8.263166   46.649918    46.303030      0.754064   \nBBB-          1.731290  4.933639   76.773649    76.303980      0.809680   \nCCC                NaN       NaN         NaN          NaN           NaN   \nNR            1.742385  4.211417  777.512995   719.052395      7.218081   \n\n              yas_risk  \nbb_composite            \nA             1.867182  \nA-            1.925921  \nB                  NaN  \nBB            1.429347  \nBB+           1.681335  \nBBB           1.862016  \nBBB+          2.803335  \nBBB-          1.968198  \nCCC                NaN  \nNR            1.877202  ",
      "text/html": "<div>\n<style scoped>\n    .dataframe tbody tr th:only-of-type {\n        vertical-align: middle;\n    }\n\n    .dataframe tbody tr th {\n        vertical-align: top;\n    }\n\n    .dataframe thead th {\n        text-align: right;\n    }\n</style>\n<table border=\"1\" class=\"dataframe\">\n  <thead>\n    <tr style=\"text-align: right;\">\n      <th></th>\n      <th>coupon</th>\n      <th>px_mid</th>\n      <th>z_sprd_mid</th>\n      <th>yas_ispread</th>\n      <th>yas_bond_yld</th>\n      <th>yas_risk</th>\n    </tr>\n    <tr>\n      <th>bb_composite</th>\n      <th></th>\n      <th></th>\n      <th></th>\n      <th></th>\n      <th></th>\n      <th></th>\n    </tr>\n  </thead>\n  <tbody>\n    <tr>\n      <th>A</th>\n      <td>0.707107</td>\n      <td>3.200365</td>\n      <td>34.002925</td>\n      <td>33.604843</td>\n      <td>0.394674</td>\n      <td>1.867182</td>\n    </tr>\n    <tr>\n      <th>A-</th>\n      <td>0.763569</td>\n      <td>2.975288</td>\n      <td>10.630264</td>\n      <td>10.457477</td>\n      <td>0.120428</td>\n      <td>1.925921</td>\n    </tr>\n    <tr>\n      <th>B</th>\n      <td>NaN</td>\n      <td>NaN</td>\n      <td>NaN</td>\n      <td>NaN</td>\n      <td>NaN</td>\n      <td>NaN</td>\n    </tr>\n    <tr>\n      <th>BB</th>\n      <td>1.455059</td>\n      <td>6.313157</td>\n      <td>105.762200</td>\n      <td>105.738382</td>\n      <td>1.057726</td>\n      <td>1.429347</td>\n    </tr>\n    <tr>\n      <th>BB+</th>\n      <td>1.316171</td>\n      <td>5.084433</td>\n      <td>86.303657</td>\n      <td>85.834959</td>\n      <td>0.968551</td>\n      <td>1.681335</td>\n    </tr>\n    <tr>\n      <th>BBB</th>\n      <td>1.440315</td>\n      <td>7.308772</td>\n      <td>137.134022</td>\n      <td>137.084951</td>\n      <td>1.370679</td>\n      <td>1.862016</td>\n    </tr>\n    <tr>\n      <th>BBB+</th>\n      <td>2.392467</td>\n      <td>8.263166</td>\n      <td>46.649918</td>\n      <td>46.303030</td>\n      <td>0.754064</td>\n      <td>2.803335</td>\n    </tr>\n    <tr>\n      <th>BBB-</th>\n      <td>1.731290</td>\n      <td>4.933639</td>\n      <td>76.773649</td>\n      <td>76.303980</td>\n      <td>0.809680</td>\n      <td>1.968198</td>\n    </tr>\n    <tr>\n      <th>CCC</th>\n      <td>NaN</td>\n      <td>NaN</td>\n      <td>NaN</td>\n      <td>NaN</td>\n      <td>NaN</td>\n      <td>NaN</td>\n    </tr>\n    <tr>\n      <th>NR</th>\n      <td>1.742385</td>\n      <td>4.211417</td>\n      <td>777.512995</td>\n      <td>719.052395</td>\n      <td>7.218081</td>\n      <td>1.877202</td>\n    </tr>\n  </tbody>\n</table>\n</div>"
     },
     "metadata": {},
     "execution_count": 52
    }
   ],
   "source": [
    "df.groupby('bb_composite').std()"
   ]
  },
  {
   "cell_type": "markdown",
   "metadata": {},
   "source": [
    "# Read Each Row"
   ]
  },
  {
   "cell_type": "code",
   "execution_count": 6,
   "metadata": {
    "tags": []
   },
   "outputs": [
    {
     "output_type": "stream",
     "name": "stdout",
     "text": "0 SOLBBB 4.25 PERP/CALL\n1 BAYNGR 3.75 CALLABLE\n2 BAYNGR 2.375 CALLABLE\n3 EDF 6.0 PERP/CALL\n4 EDF 5.375 PERP/CALL\n5 ENGIFP 4.75 PERP/CALL\n6 EDF 4.125 PERP/CALL\n7 EDF 5.0 PERP/CALL\n8 EDF 5.875 PERP/CALL\n9 ENGIFP 3.875 PERP/CALL\n10 SEVFP 2.5 PERP/CALL\n11 SEVFP 2.875 PERP/CALL\n12 ENGIFP 1.375 PERP/CALL\n13 EDF 4.0 PERP/CALL\n14 ENGIFP 3.25 PERP/CALL\n15 ORAFP 2.375 PERP/CALL\n16 ENGIFP 1.625 PERP/CALL\n17 SEVFP 1.625 PERP/CALL\n18 ORAFP 1.75 PERP/CALL\n19 EDF 3.0 PERP/CALL\n20 VOD 7.0 CALLABLE\n21 EDF 5.25 PERP/CALL\n22 EDF 5.625 PERP/CALL\n23 KPN 7.0 CALLABLE\n24 BHP 6.25 CALLABLE\n25 BHP 6.75 CALLABLE\n26 ENELIM 5.4510000000000005 CALLABLE\n27 AMXLMM 6.375 CALLABLE\n28 AMXLMM 6.375 CALLABLE\n29 SOLBBB 5.425 PERP/CALL\n30 ORAFP 5.875 PERP/CALL\n31 ORAFP 5.25 PERP/CALL\n32 ENBW 3.625 CALLABLE\n33 TELEFO 5.875 PERP/CALL\n34 ORAFP 4.0 PERP/CALL\n35 ORAFP 5.0 PERP/CALL\n36 ORAFP 5.75 PERP/CALL\n37 MRKGR 2.625 CALLABLE\n38 MRKGR 3.375 CALLABLE\n39 TOTAL 2.25 PERP/CALL\n40 TOTAL 2.625 PERP/CALL\n41 VATFAL 3.0 CALLABLE\n42 REPSM 4.5 CALLABLE\n43 RWE 2.75 CALLABLE\n44 RWE 3.5 CALLABLE\n45 BERTEL 3.0 CALLABLE\n46 BERTEL 3.5 CALLABLE\n47 RWE 6.625 CALLABLE\n48 BHP 4.75 CALLABLE\n49 BHP 5.625 CALLABLE\n50 BHP 6.5 CALLABLE\n51 VATFAL 6.1 CALLABLE\n52 SOLBBB 5.869 PERP/CALL\n53 SESGFP 5.625 PERP/CALL\n54 ENBW 3.375 CALLABLE\n55 SESGFP 4.625 PERP/CALL\n56 TOTAL 3.875 PERP/CALL\n57 TELEFO 3.75 PERP/CALL\n58 ENBW 5.125 CALLABLE\n59 TOTAL 3.3689999999999998 PERP/CALL\n60 TOTAL 2.708 PERP/CALL\n61 TELIAS 3.0 CALLABLE\n62 TENN 2.995 PERP/CALL\n63 ENELIM 3.375 CALLABLE\n64 ENELIM 2.5 CALLABLE\n65 TELEFO 2.625 PERP/CALL\n66 TELEFO 3.0 PERP/CALL\n67 TELEFO 3.875 PERP/CALL\n68 VOD 3.1 CALLABLE\n69 VOD 4.2 CALLABLE\n70 VOD 6.25 CALLABLE\n71 VOD 4.875 CALLABLE\n72 TELEFO 4.375 PERP/CALL\n73 TOTAL 1.75 PERP/CALL\n74 ENELIM 3.5 CALLABLE\n75 MRKGR 1.625 CALLABLE\n76 ENBW 1.625 CALLABLE\n77 ENBW 1.125 CALLABLE\n78 TELEFO 2.875 PERP/CALL\n79 IFXGR 2.875 PERP/CALL\n80 IFXGR 3.625 PERP/CALL\n81 KPN 2.0 PERP/CALL\n82 BAYNGR 2.375 CALLABLE\n83 BAYNGR 3.125 CALLABLE\n84 TELIAS 1.375 CALLABLE\n85 TELEFO 2.502 PERP/CALL\n86 T 2.875 PERP/CALL\n87 BRITEL 1.874 CALLABLE\n88 REPSM 3.75 PERP/CALL\n89 REPSM 4.247 PERP/CALL\n90 ELIASO 2.75 PERP/CALL\n91 DBOERS 2.75 CALLABLE\n92 WIEAV 5.0 PERP/CALL\n93 DBOERS 1.25 CALLABLE\n94 COFP 3.992 PERP/CALL\n95 AFFP 6.25 PERP/CALL\n96 BNFP 1.75 PERP/CALL\n97 ULFP 2.125 PERP/CALL\n98 ULFP 2.875 PERP/CALL\n99 ACFP 4.375 PERP/CALL\n100 AKEFP 2.75 PERP/CALL\n101 ACFP 2.625 PERP/CALL\n102 AKEFP 1.5 PERP/CALL\n103 EDPPL 4.496 CALLABLE\n104 EDPPL 1.7 CALLABLE\n105 EDPPL 5.375 CALLABLE\n106 ENELIM 8.75 CALLABLE\n107 SZUGR 2.697 PERP/CALL\n108 ORSTED 6.25 CALLABLE\n109 ENELIM 7.75 CALLABLE\n110 VW 5.125 PERP/CALL\n111 VW 3.75 PERP/CALL\n112 VW 4.625 PERP/CALL\n113 ANNGR 4.0 PERP/CALL\n114 NTGYSM 4.125 PERP/CALL\n115 STEDIN 3.25 PERP/CALL\n116 GYCGR 3.75 PERP/CALL\n117 SSELN 2.375 PERP/CALL\n118 SSELN 3.875 PERP/CALL\n119 VW 2.5 PERP/CALL\n120 VW 3.5 PERP/CALL\n121 REPSM 3.875 PERP/CALL\n122 CNALN 5.25 CALLABLE\n123 CNALN 3.0 CALLABLE\n124 NTGYSM 3.375 PERP/CALL\n125 ERFFP 4.875 PERP/CALL\n126 ORSTED 3.0 CALLABLE\n127 SBRYLN 6.5 PERP/CALL\n128 LHAGR 5.125 CALLABLE\n129 OMVAV 5.25 PERP/CALL\n130 OMVAV 6.25 PERP/CALL\n131 LXSGR 4.5 CALLABLE\n132 GYCGR 2.75 PERP/CALL\n133 ARNDTN 3.75 PERP/CALL\n134 SSELN 4.75 CALLABLE\n135 SSELN 3.625 CALLABLE\n136 TRAFIG 6.875 PERP/CALL\n137 VW 2.7 PERP/CALL\n138 VW 3.875 PERP/CALL\n139 ARNDTN 5.25 PERP/CALL\n140 SOFTBK 6.0 PERP/CALL\n141 SOFTBK 6.875 PERP/CALL\n142 BALDER 3.0 CALLABLE\n143 OMVAV 2.875 PERP/CALL\n144 LHNVX 3.0 PERP/CALL\n145 FERSM 2.124 PERP/CALL\n146 ERFFP 3.25 PERP/CALL\n147 ORSTED 2.25 CALLABLE\n148 IBESM 1.875 PERP/CALL\n149 ARNDTN 2.125 PERP/CALL\n150 ALLRNV 1.625 PERP/CALL\n151 AKFAST 3.875 CALLABLE\n152 ECLEAR 2.625 CALLABLE\n153 VW 3.375 PERP/CALL\n154 VW 4.625 PERP/CALL\n155 GYCGR 2.5 PERP/CALL\n156 CPIPGR 4.375 PERP/CALL\n157 JUSTLN 9.375 PERP/CALL\n158 SBBBSS 4.625 PERP/CALL\n159 CPIPGR 4.875 PERP/CALL\n160 SBBBSS 2.6239999999999997 PERP/CALL\n161 ORSTED 1.75 CALLABLE\n162 HEIBOS 3.248 PERP/CALL\n163 DBHNGR 0.95 PERP/CALL\n164 DBHNGR 1.6 PERP/CALL\n165 NGGLN 2.125 CALLABLE\n166 MRKGR 2.875 CALLABLE\n167 ARNDTN 4.75 PERP/CALL\n168 ARNDTN 2.875 PERP/CALL\n169 TRAFIG 7.5 PERP/CALL\n170 ERFFP 2.875 PERP/CALL\n171 TLGGR 3.375 PERP/CALL\n172 AKFAST 2.249 CALLABLE\n173 VW 3.5 PERP/CALL\n174 EVKGR 2.125 CALLABLE\n175 ACFP 4.125 PERP/CALL\n176 AKEFP 4.75 PERP/CALL\n177 NGGLN 5.625 CALLABLE\n178 ENELIM 6.625 CALLABLE\n179 VLVY 4.85 CALLABLE\n180 IBESM 2.625 PERP/CALL\n181 IBESM 3.25 PERP/CALL\n182 NGGLN 1.625 CALLABLE\n183 VW 3.875 PERP/CALL\n"
    }
   ],
   "source": [
    "# read each row of pandas df\n",
    "for index, row in df.iterrows():\n",
    "    print(index, row['ticker'], row['coupon'], row['mty_typ'])"
   ]
  },
  {
   "cell_type": "markdown",
   "metadata": {},
   "source": [
    "# Add a filter"
   ]
  },
  {
   "cell_type": "markdown",
   "metadata": {},
   "source": [
    "this filter gets all the details for all bonds that have ticker = DBHNGR"
   ]
  },
  {
   "cell_type": "code",
   "execution_count": 8,
   "metadata": {},
   "outputs": [
    {
     "output_type": "execute_result",
     "data": {
      "text/plain": "            Unnamed: 0  ticker  coupon nxt_call_dt final_maturity    mty_typ  \\\n163  XS2010039035 Corp  DBHNGR    0.95  2025-01-22            NaN  PERP/CALL   \n164  XS2010039548 Corp  DBHNGR    1.60  2029-07-18            NaN  PERP/CALL   \n\n     px_mid  z_sprd_mid  yas_ispread  yas_bond_yld  yas_risk crncy  \\\n163  96.982  196.145600   196.034194      1.612521  4.469365   EUR   \n164  97.872  206.696732   205.908330      1.851936  8.332652   EUR   \n\n        payment_rank industry_sector rtg_moody rtg_sp bb_composite  \n163  Jr Subordinated      Industrial        A2   BBB-         BBB+  \n164  Jr Subordinated      Industrial        A2   BBB-         BBB+  ",
      "text/html": "<div>\n<style scoped>\n    .dataframe tbody tr th:only-of-type {\n        vertical-align: middle;\n    }\n\n    .dataframe tbody tr th {\n        vertical-align: top;\n    }\n\n    .dataframe thead th {\n        text-align: right;\n    }\n</style>\n<table border=\"1\" class=\"dataframe\">\n  <thead>\n    <tr style=\"text-align: right;\">\n      <th></th>\n      <th>Unnamed: 0</th>\n      <th>ticker</th>\n      <th>coupon</th>\n      <th>nxt_call_dt</th>\n      <th>final_maturity</th>\n      <th>mty_typ</th>\n      <th>px_mid</th>\n      <th>z_sprd_mid</th>\n      <th>yas_ispread</th>\n      <th>yas_bond_yld</th>\n      <th>yas_risk</th>\n      <th>crncy</th>\n      <th>payment_rank</th>\n      <th>industry_sector</th>\n      <th>rtg_moody</th>\n      <th>rtg_sp</th>\n      <th>bb_composite</th>\n    </tr>\n  </thead>\n  <tbody>\n    <tr>\n      <th>163</th>\n      <td>XS2010039035 Corp</td>\n      <td>DBHNGR</td>\n      <td>0.95</td>\n      <td>2025-01-22</td>\n      <td>NaN</td>\n      <td>PERP/CALL</td>\n      <td>96.982</td>\n      <td>196.145600</td>\n      <td>196.034194</td>\n      <td>1.612521</td>\n      <td>4.469365</td>\n      <td>EUR</td>\n      <td>Jr Subordinated</td>\n      <td>Industrial</td>\n      <td>A2</td>\n      <td>BBB-</td>\n      <td>BBB+</td>\n    </tr>\n    <tr>\n      <th>164</th>\n      <td>XS2010039548 Corp</td>\n      <td>DBHNGR</td>\n      <td>1.60</td>\n      <td>2029-07-18</td>\n      <td>NaN</td>\n      <td>PERP/CALL</td>\n      <td>97.872</td>\n      <td>206.696732</td>\n      <td>205.908330</td>\n      <td>1.851936</td>\n      <td>8.332652</td>\n      <td>EUR</td>\n      <td>Jr Subordinated</td>\n      <td>Industrial</td>\n      <td>A2</td>\n      <td>BBB-</td>\n      <td>BBB+</td>\n    </tr>\n  </tbody>\n</table>\n</div>"
     },
     "metadata": {},
     "execution_count": 8
    }
   ],
   "source": [
    "df.loc[df['ticker']=='DBHNGR']"
   ]
  },
  {
   "cell_type": "markdown",
   "metadata": {},
   "source": [
    "we could then get some stats on this data"
   ]
  },
  {
   "cell_type": "code",
   "execution_count": 4,
   "metadata": {
    "tags": []
   },
   "outputs": [
    {
     "output_type": "stream",
     "name": "stdout",
     "text": "mean z for dbhngr 201.42\n"
    }
   ],
   "source": [
    "# put dataframe into a variable\n",
    "dbhngr = df.loc[df['ticker']=='DBHNGR']\n",
    "\n",
    "# get the average spread\n",
    "meanZdbhngr = dbhngr['z_sprd_mid'].mean()\n",
    "print('mean z for dbhngr', round(meanZdbhngr,2))"
   ]
  },
  {
   "cell_type": "markdown",
   "metadata": {},
   "source": [
    "# look at just the columns you want\n",
    "\n"
   ]
  },
  {
   "cell_type": "code",
   "execution_count": 9,
   "metadata": {},
   "outputs": [
    {
     "output_type": "execute_result",
     "data": {
      "text/plain": "     ticker  coupon nxt_call_dt  yas_risk  yas_ispread  z_sprd_mid  px_mid\n163  DBHNGR    0.95  2025-01-22  4.469365   196.034194  196.145600  96.982\n164  DBHNGR    1.60  2029-07-18  8.332652   205.908330  206.696732  97.872",
      "text/html": "<div>\n<style scoped>\n    .dataframe tbody tr th:only-of-type {\n        vertical-align: middle;\n    }\n\n    .dataframe tbody tr th {\n        vertical-align: top;\n    }\n\n    .dataframe thead th {\n        text-align: right;\n    }\n</style>\n<table border=\"1\" class=\"dataframe\">\n  <thead>\n    <tr style=\"text-align: right;\">\n      <th></th>\n      <th>ticker</th>\n      <th>coupon</th>\n      <th>nxt_call_dt</th>\n      <th>yas_risk</th>\n      <th>yas_ispread</th>\n      <th>z_sprd_mid</th>\n      <th>px_mid</th>\n    </tr>\n  </thead>\n  <tbody>\n    <tr>\n      <th>163</th>\n      <td>DBHNGR</td>\n      <td>0.95</td>\n      <td>2025-01-22</td>\n      <td>4.469365</td>\n      <td>196.034194</td>\n      <td>196.145600</td>\n      <td>96.982</td>\n    </tr>\n    <tr>\n      <th>164</th>\n      <td>DBHNGR</td>\n      <td>1.60</td>\n      <td>2029-07-18</td>\n      <td>8.332652</td>\n      <td>205.908330</td>\n      <td>206.696732</td>\n      <td>97.872</td>\n    </tr>\n  </tbody>\n</table>\n</div>"
     },
     "metadata": {},
     "execution_count": 9
    }
   ],
   "source": [
    "dbhngr[['ticker', 'coupon', 'nxt_call_dt', 'yas_risk', 'yas_ispread', 'z_sprd_mid', 'px_mid']]"
   ]
  },
  {
   "cell_type": "markdown",
   "metadata": {},
   "source": [
    "# Select rows and columns\n",
    "\n",
    "So, for example, the user could filter rows for say ratings or issuers, and then get specified columns **all-in-one**.\n"
   ]
  },
  {
   "cell_type": "code",
   "execution_count": 11,
   "metadata": {},
   "outputs": [
    {
     "output_type": "execute_result",
     "data": {
      "text/plain": "     ticker  coupon nxt_call_dt  yas_risk  yas_ispread  z_sprd_mid  px_mid\n163  DBHNGR    0.95  2025-01-22  4.469365   196.034194  196.145600  96.982\n164  DBHNGR    1.60  2029-07-18  8.332652   205.908330  206.696732  97.872",
      "text/html": "<div>\n<style scoped>\n    .dataframe tbody tr th:only-of-type {\n        vertical-align: middle;\n    }\n\n    .dataframe tbody tr th {\n        vertical-align: top;\n    }\n\n    .dataframe thead th {\n        text-align: right;\n    }\n</style>\n<table border=\"1\" class=\"dataframe\">\n  <thead>\n    <tr style=\"text-align: right;\">\n      <th></th>\n      <th>ticker</th>\n      <th>coupon</th>\n      <th>nxt_call_dt</th>\n      <th>yas_risk</th>\n      <th>yas_ispread</th>\n      <th>z_sprd_mid</th>\n      <th>px_mid</th>\n    </tr>\n  </thead>\n  <tbody>\n    <tr>\n      <th>163</th>\n      <td>DBHNGR</td>\n      <td>0.95</td>\n      <td>2025-01-22</td>\n      <td>4.469365</td>\n      <td>196.034194</td>\n      <td>196.145600</td>\n      <td>96.982</td>\n    </tr>\n    <tr>\n      <th>164</th>\n      <td>DBHNGR</td>\n      <td>1.60</td>\n      <td>2029-07-18</td>\n      <td>8.332652</td>\n      <td>205.908330</td>\n      <td>206.696732</td>\n      <td>97.872</td>\n    </tr>\n  </tbody>\n</table>\n</div>"
     },
     "metadata": {},
     "execution_count": 11
    }
   ],
   "source": [
    "dbhngrMod = df.loc[df['ticker']=='DBHNGR', ['ticker', 'coupon', 'nxt_call_dt', 'yas_risk', 'yas_ispread', 'z_sprd_mid', 'px_mid']]\n",
    "dbhngrMod"
   ]
  },
  {
   "cell_type": "markdown",
   "metadata": {},
   "source": [
    "# selecting columns by attribute access\n",
    "benefit = get help when chaining methods after selection\n",
    "drawback = cannot select columns that have spaces or other characters that are not valid as Python identifiers (variable names)\n"
   ]
  },
  {
   "cell_type": "code",
   "execution_count": 14,
   "metadata": {},
   "outputs": [
    {
     "output_type": "execute_result",
     "data": {
      "text/plain": "163    0.95\n164    1.60\nName: coupon, dtype: float64"
     },
     "metadata": {},
     "execution_count": 14
    }
   ],
   "source": [
    "# example using chaining.method\n",
    "dbhngrMod.coupon\n",
    "# dbhngrMod.nxt_call_dt"
   ]
  }
 ],
 "metadata": {
  "language_info": {
   "codemirror_mode": {
    "name": "ipython",
    "version": 3
   },
   "file_extension": ".py",
   "mimetype": "text/x-python",
   "name": "python",
   "nbconvert_exporter": "python",
   "pygments_lexer": "ipython3",
   "version": 3
  },
  "orig_nbformat": 2,
  "kernelspec": {
   "name": "python_defaultSpec_1594802988257",
   "display_name": "Python 3.7.7 64-bit"
  }
 },
 "nbformat": 4,
 "nbformat_minor": 2
}