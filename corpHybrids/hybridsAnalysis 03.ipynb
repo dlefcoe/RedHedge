{
 "cells": [
  {
   "cell_type": "markdown",
   "metadata": {},
   "source": [
    "# Using the XBBG module to extract and analyze bond data for corporate hybrids"
   ]
  },
  {
   "cell_type": "markdown",
   "metadata": {},
   "source": [
    "# written by: Darren Lefcoe\n",
    "Jun 2020\n",
    "\n",
    "contact:\n",
    "* gitHub: @dlefcoe\n",
    "* twitter: @dlefcoe\n",
    "* email: darren@redhedge.uk\n"
   ]
  },
  {
   "cell_type": "markdown",
   "metadata": {},
   "source": [
    "## Redhedge Asset Management\n",
    "\n",
    "Darren Lefcoe uses open source to create and write code for RedHedge.\n",
    "\n",
    "Running an open source project, like any human endeavor, involves uncertainty and trade-offs.\n",
    "\n",
    "Please refer to the open source licences:\n",
    "https://opensource.guide/notices/\n"
   ]
  },
  {
   "cell_type": "markdown",
   "metadata": {},
   "source": [
    "# First we do the imports"
   ]
  },
  {
   "cell_type": "code",
   "execution_count": 52,
   "metadata": {
    "tags": []
   },
   "outputs": [],
   "source": [
    "import os\n",
    "import sys\n",
    "\n",
    "import time\n",
    "import datetime\n",
    "import collections\n",
    "\n",
    "import blpapi\n",
    "from xbbg import blp\n",
    "\n",
    "import openpyxl\n",
    "import pandas as pd\n",
    "import matplotlib\n",
    "import matplotlib.pyplot as plt\n",
    "\n",
    "\n",
    "from sklearn import linear_model\n",
    "import numpy as np\n",
    "\n"
   ]
  },
  {
   "cell_type": "code",
   "execution_count": 4,
   "metadata": {},
   "outputs": [],
   "source": [
    "# given limit for bloomberg data\n",
    "bloombergLimit = 500_000\n",
    "\n"
   ]
  },
  {
   "cell_type": "code",
   "execution_count": 5,
   "metadata": {},
   "outputs": [],
   "source": [
    "# get the file path of this file\n",
    "dir_path = os.path.abspath('')\n",
    "\n"
   ]
  },
  {
   "cell_type": "code",
   "execution_count": 6,
   "metadata": {},
   "outputs": [],
   "source": [
    "# define a list of bond fields\n",
    "fieldList = ['ticker', 'coupon', 'nxt_call_dt', 'final_maturity', \n",
    "            'mty_typ', 'px_mid', 'z_sprd_mid', 'yas_ispread', 'yas_bond_yld', \n",
    "            'yas_risk','crncy', 'payment_rank', 'industry_sector','rtg_moody','rtg_sp']\n",
    "\n",
    "\n"
   ]
  },
  {
   "cell_type": "code",
   "execution_count": 7,
   "metadata": {
    "tags": []
   },
   "outputs": [
    {
     "name": "stdout",
     "output_type": "stream",
     "text": [
      "getting security list from: ['worksheets', 'tickers']\n"
     ]
    }
   ],
   "source": [
    "# define bond list\n",
    "\n",
    "# get items from sheet (in the same folder)\n",
    "fileToGet = 'hybridSecurityList.xlsx'\n",
    "\n",
    "# join file and correct folder\n",
    "fileToGet = os.path.join(dir_path, fileToGet)\n",
    "secListXlsx = pd.ExcelFile(fileToGet)\n",
    "\n",
    "# the names of the available sheets\n",
    "print('getting security list from:', secListXlsx.sheet_names)\n",
    "\n"
   ]
  },
  {
   "cell_type": "code",
   "execution_count": 8,
   "metadata": {
    "tags": []
   },
   "outputs": [],
   "source": [
    "\n",
    "# put bond list into a pandas dataframe\n",
    "df = pd.DataFrame(secListXlsx.parse('tickers'))\n",
    "\n",
    "\n"
   ]
  },
  {
   "cell_type": "markdown",
   "metadata": {},
   "source": [
    "# Lets see the bond list data"
   ]
  },
  {
   "cell_type": "code",
   "execution_count": 9,
   "metadata": {},
   "outputs": [
    {
     "data": {
      "text/html": [
       "<div>\n",
       "<style scoped>\n",
       "    .dataframe tbody tr th:only-of-type {\n",
       "        vertical-align: middle;\n",
       "    }\n",
       "\n",
       "    .dataframe tbody tr th {\n",
       "        vertical-align: top;\n",
       "    }\n",
       "\n",
       "    .dataframe thead th {\n",
       "        text-align: right;\n",
       "    }\n",
       "</style>\n",
       "<table border=\"1\" class=\"dataframe\">\n",
       "  <thead>\n",
       "    <tr style=\"text-align: right;\">\n",
       "      <th></th>\n",
       "      <th>QJ937853 Corp</th>\n",
       "      <th>XS1323897485</th>\n",
       "      <th>SOLBBB 5.118 PERP nc-21</th>\n",
       "    </tr>\n",
       "  </thead>\n",
       "  <tbody>\n",
       "    <tr>\n",
       "      <th>0</th>\n",
       "      <td>EJ917655 Corp</td>\n",
       "      <td>XS0992293901</td>\n",
       "      <td>SOLBBB 5.425 PERP nc-23</td>\n",
       "    </tr>\n",
       "    <tr>\n",
       "      <th>1</th>\n",
       "      <td>AV915324 Corp</td>\n",
       "      <td>BE6309987400</td>\n",
       "      <td>SOLBBB 4 1/4 PERP nc-23</td>\n",
       "    </tr>\n",
       "    <tr>\n",
       "      <th>2</th>\n",
       "      <td>QJ937566 Corp</td>\n",
       "      <td>XS1323897725</td>\n",
       "      <td>SOLBBB 5.869 PERP nc-24</td>\n",
       "    </tr>\n",
       "    <tr>\n",
       "      <th>3</th>\n",
       "      <td>EK834863 Corp</td>\n",
       "      <td>DE000A14J611</td>\n",
       "      <td>BAYNGR 2 3/8 04/02/75 nc-22</td>\n",
       "    </tr>\n",
       "    <tr>\n",
       "      <th>4</th>\n",
       "      <td>EK352403 Corp</td>\n",
       "      <td>DE000A11QR73</td>\n",
       "      <td>BAYNGR 3 3/4 07/01/74 nc-24</td>\n",
       "    </tr>\n",
       "    <tr>\n",
       "      <th>...</th>\n",
       "      <td>...</td>\n",
       "      <td>...</td>\n",
       "      <td>...</td>\n",
       "    </tr>\n",
       "    <tr>\n",
       "      <th>180</th>\n",
       "      <td>EK523297 Corp</td>\n",
       "      <td>DE000A1ZN206</td>\n",
       "      <td>WIEAV 5 PERP nc-21</td>\n",
       "    </tr>\n",
       "    <tr>\n",
       "      <th>181</th>\n",
       "      <td>AM679347 Corp</td>\n",
       "      <td>XS1582433428</td>\n",
       "      <td>TRAFIG 6 7/8 PERP nc-21</td>\n",
       "    </tr>\n",
       "    <tr>\n",
       "      <th>182</th>\n",
       "      <td>AZ920495 Corp</td>\n",
       "      <td>XS2033327854</td>\n",
       "      <td>TRAFIG 7 1/2 PERP nc-24</td>\n",
       "    </tr>\n",
       "    <tr>\n",
       "      <th>183</th>\n",
       "      <td>AO262498 Corp</td>\n",
       "      <td>XS1642682410</td>\n",
       "      <td>SOFTBK 6 PERP nc-23</td>\n",
       "    </tr>\n",
       "    <tr>\n",
       "      <th>184</th>\n",
       "      <td>AO262515 Corp</td>\n",
       "      <td>XS1642686676</td>\n",
       "      <td>SOFTBK 6 7/8 PERP nc-27</td>\n",
       "    </tr>\n",
       "  </tbody>\n",
       "</table>\n",
       "<p>185 rows × 3 columns</p>\n",
       "</div>"
      ],
      "text/plain": [
       "     QJ937853 Corp  XS1323897485      SOLBBB 5.118 PERP nc-21\n",
       "0    EJ917655 Corp  XS0992293901      SOLBBB 5.425 PERP nc-23\n",
       "1    AV915324 Corp  BE6309987400      SOLBBB 4 1/4 PERP nc-23\n",
       "2    QJ937566 Corp  XS1323897725      SOLBBB 5.869 PERP nc-24\n",
       "3    EK834863 Corp  DE000A14J611  BAYNGR 2 3/8 04/02/75 nc-22\n",
       "4    EK352403 Corp  DE000A11QR73  BAYNGR 3 3/4 07/01/74 nc-24\n",
       "..             ...           ...                          ...\n",
       "180  EK523297 Corp  DE000A1ZN206           WIEAV 5 PERP nc-21\n",
       "181  AM679347 Corp  XS1582433428      TRAFIG 6 7/8 PERP nc-21\n",
       "182  AZ920495 Corp  XS2033327854      TRAFIG 7 1/2 PERP nc-24\n",
       "183  AO262498 Corp  XS1642682410          SOFTBK 6 PERP nc-23\n",
       "184  AO262515 Corp  XS1642686676      SOFTBK 6 7/8 PERP nc-27\n",
       "\n",
       "[185 rows x 3 columns]"
      ]
     },
     "execution_count": 9,
     "metadata": {},
     "output_type": "execute_result"
    }
   ],
   "source": [
    "df\n"
   ]
  },
  {
   "cell_type": "markdown",
   "metadata": {},
   "source": [
    "# A function to get the bond data"
   ]
  },
  {
   "cell_type": "code",
   "execution_count": 10,
   "metadata": {},
   "outputs": [
    {
     "name": "stdout",
     "output_type": "stream",
     "text": [
      "Wall time: 0 ns\n"
     ]
    }
   ],
   "source": [
    "def getListDataFromBbg(securtiyList, fieldList):\n",
    "    ''' \n",
    "    gets data from bloomberg using a while loop until completion\n",
    "\n",
    "        inputs:\n",
    "            securtiyList - list of tickers to obtain\n",
    "            fieldList - the fields requested for each ticker\n",
    "\n",
    "        output:\n",
    "            resultsOfDataReq - resulting pandas array of the data that was requested\n",
    "\n",
    "    '''\n",
    "    # get the data (bdp returns a dataframe)\n",
    "    resultsOfDataReq = blp.bdp(tickers=securtiyList, flds=fieldList)\n",
    "\n",
    "    \n",
    "    #pre-loop initialization\n",
    "    keepLooping = True\n",
    "    loopingCounter = 0\n",
    "    while keepLooping:\n",
    "        \n",
    "        # check which items are missing\n",
    "        listError = list(set(securtiyList)-set(resultsOfDataReq.index.values))\n",
    "        \n",
    "        if len(listError) == 0:\n",
    "            # data collection process finished\n",
    "            keepLooping = False\n",
    "            break\n",
    "        else:\n",
    "            print(len(listError), 'of', len(securtiyList), 'remaining', ': loop', loopingCounter)\n",
    "            loopingCounter += 1\n",
    "            if loopingCounter > 10:\n",
    "                # more than 10 tries at data collection\n",
    "                keepLooping = False\n",
    "                break\n",
    "\n",
    "        # get and append more data\n",
    "        try:\n",
    "            nextChunk = blp.bdp(tickers=listError, flds=fieldList)\n",
    "            resultsOfDataReq = resultsOfDataReq.append(nextChunk)\n",
    "        except:\n",
    "            print('no data to add')\n",
    "\n",
    "        # remove duplicates\n",
    "        resultsOfDataReq = resultsOfDataReq.drop_duplicates()\n",
    "\n",
    "    return resultsOfDataReq\n",
    "\n",
    "%time\n",
    "    "
   ]
  },
  {
   "cell_type": "markdown",
   "metadata": {},
   "source": [
    "# Now get the bond data\n"
   ]
  },
  {
   "cell_type": "code",
   "execution_count": 11,
   "metadata": {
    "tags": []
   },
   "outputs": [
    {
     "name": "stdout",
     "output_type": "stream",
     "text": [
      "getting data from bbg\n",
      "94 of 184 remaining : loop 0\n",
      "the data is collected\n",
      "Wall time: 0 ns\n"
     ]
    }
   ],
   "source": [
    "# put all isin's in a list\n",
    "isin = df.iloc[:,1].tolist()\n",
    "securtiyList = [x + \" Corp\" for x in isin]\n",
    "\n",
    "# make the lists unique (and keep the order)\n",
    "securtiyList = list(collections.OrderedDict.fromkeys(securtiyList))\n",
    "\n",
    "# get the data from bloomberg\n",
    "print('getting data from bbg')\n",
    "bondData = getListDataFromBbg(securtiyList, fieldList)\n",
    "print('the data is collected')\n",
    "\n",
    "%time"
   ]
  },
  {
   "cell_type": "code",
   "execution_count": 12,
   "metadata": {},
   "outputs": [
    {
     "data": {
      "text/plain": [
       "(184, 15)"
      ]
     },
     "execution_count": 12,
     "metadata": {},
     "output_type": "execute_result"
    }
   ],
   "source": [
    "# We can inspect the shape ofthe data here\n",
    "bondData.shape"
   ]
  },
  {
   "cell_type": "code",
   "execution_count": 13,
   "metadata": {},
   "outputs": [
    {
     "data": {
      "text/html": [
       "<div>\n",
       "<style scoped>\n",
       "    .dataframe tbody tr th:only-of-type {\n",
       "        vertical-align: middle;\n",
       "    }\n",
       "\n",
       "    .dataframe tbody tr th {\n",
       "        vertical-align: top;\n",
       "    }\n",
       "\n",
       "    .dataframe thead th {\n",
       "        text-align: right;\n",
       "    }\n",
       "</style>\n",
       "<table border=\"1\" class=\"dataframe\">\n",
       "  <thead>\n",
       "    <tr style=\"text-align: right;\">\n",
       "      <th></th>\n",
       "      <th>ticker</th>\n",
       "      <th>coupon</th>\n",
       "      <th>nxt_call_dt</th>\n",
       "      <th>final_maturity</th>\n",
       "      <th>mty_typ</th>\n",
       "      <th>px_mid</th>\n",
       "      <th>z_sprd_mid</th>\n",
       "      <th>yas_ispread</th>\n",
       "      <th>yas_bond_yld</th>\n",
       "      <th>yas_risk</th>\n",
       "      <th>crncy</th>\n",
       "      <th>payment_rank</th>\n",
       "      <th>industry_sector</th>\n",
       "      <th>rtg_moody</th>\n",
       "      <th>rtg_sp</th>\n",
       "    </tr>\n",
       "  </thead>\n",
       "  <tbody>\n",
       "    <tr>\n",
       "      <th>BE6309987400 Corp</th>\n",
       "      <td>SOLBBB</td>\n",
       "      <td>4.25</td>\n",
       "      <td>2023-12-04</td>\n",
       "      <td>NaN</td>\n",
       "      <td>PERP/CALL</td>\n",
       "      <td>103.567</td>\n",
       "      <td>358.078</td>\n",
       "      <td>358.141</td>\n",
       "      <td>3.20028</td>\n",
       "      <td>3.49704</td>\n",
       "      <td>EUR</td>\n",
       "      <td>Jr Subordinated</td>\n",
       "      <td>Basic Materials</td>\n",
       "      <td>Ba1</td>\n",
       "      <td>BB+</td>\n",
       "    </tr>\n",
       "    <tr>\n",
       "      <th>DE000A11QR73 Corp</th>\n",
       "      <td>BAYNGR</td>\n",
       "      <td>3.75</td>\n",
       "      <td>2024-07-01</td>\n",
       "      <td>2074-07-01</td>\n",
       "      <td>CALLABLE</td>\n",
       "      <td>103.843</td>\n",
       "      <td>309.962</td>\n",
       "      <td>309.9</td>\n",
       "      <td>2.72241</td>\n",
       "      <td>3.83174</td>\n",
       "      <td>EUR</td>\n",
       "      <td>Jr Subordinated</td>\n",
       "      <td>Consumer, Non-cyclical</td>\n",
       "      <td>Baa3</td>\n",
       "      <td>BB+</td>\n",
       "    </tr>\n",
       "    <tr>\n",
       "      <th>DE000A14J611 Corp</th>\n",
       "      <td>BAYNGR</td>\n",
       "      <td>2.375</td>\n",
       "      <td>2022-10-02</td>\n",
       "      <td>2075-04-02</td>\n",
       "      <td>CALLABLE</td>\n",
       "      <td>99.416</td>\n",
       "      <td>303.2</td>\n",
       "      <td>303.168</td>\n",
       "      <td>2.6429</td>\n",
       "      <td>2.15122</td>\n",
       "      <td>EUR</td>\n",
       "      <td>Jr Subordinated</td>\n",
       "      <td>Consumer, Non-cyclical</td>\n",
       "      <td>Baa3</td>\n",
       "      <td>BB+</td>\n",
       "    </tr>\n",
       "    <tr>\n",
       "      <th>DE000A2GSFF1 Corp</th>\n",
       "      <td>EVKGR</td>\n",
       "      <td>2.125</td>\n",
       "      <td>2022-08-07</td>\n",
       "      <td>2077-07-07</td>\n",
       "      <td>CALLABLE</td>\n",
       "      <td>98.6585</td>\n",
       "      <td>310.828</td>\n",
       "      <td>310.82</td>\n",
       "      <td>2.71919</td>\n",
       "      <td>2.22751</td>\n",
       "      <td>EUR</td>\n",
       "      <td>Jr Subordinated</td>\n",
       "      <td>Basic Materials</td>\n",
       "      <td>Baa3</td>\n",
       "      <td>BBB-</td>\n",
       "    </tr>\n",
       "    <tr>\n",
       "      <th>FR0011401751 Corp</th>\n",
       "      <td>EDF</td>\n",
       "      <td>5.375</td>\n",
       "      <td>2025-01-29</td>\n",
       "      <td>NaN</td>\n",
       "      <td>PERP/CALL</td>\n",
       "      <td>108.154</td>\n",
       "      <td>377.935</td>\n",
       "      <td>377.764</td>\n",
       "      <td>3.41508</td>\n",
       "      <td>4.3937</td>\n",
       "      <td>EUR</td>\n",
       "      <td>Jr Subordinated</td>\n",
       "      <td>Utilities</td>\n",
       "      <td>Baa3</td>\n",
       "      <td>BB-</td>\n",
       "    </tr>\n",
       "    <tr>\n",
       "      <th>...</th>\n",
       "      <td>...</td>\n",
       "      <td>...</td>\n",
       "      <td>...</td>\n",
       "      <td>...</td>\n",
       "      <td>...</td>\n",
       "      <td>...</td>\n",
       "      <td>...</td>\n",
       "      <td>...</td>\n",
       "      <td>...</td>\n",
       "      <td>...</td>\n",
       "      <td>...</td>\n",
       "      <td>...</td>\n",
       "      <td>...</td>\n",
       "      <td>...</td>\n",
       "      <td>...</td>\n",
       "    </tr>\n",
       "    <tr>\n",
       "      <th>XS2056371334 Corp</th>\n",
       "      <td>TELEFO</td>\n",
       "      <td>2.875</td>\n",
       "      <td>2027-06-24</td>\n",
       "      <td>NaN</td>\n",
       "      <td>PERP/CALL</td>\n",
       "      <td>95.463</td>\n",
       "      <td>391.93</td>\n",
       "      <td>391.245</td>\n",
       "      <td>3.62226</td>\n",
       "      <td>5.90199</td>\n",
       "      <td>EUR</td>\n",
       "      <td>Jr Subordinated</td>\n",
       "      <td>Communications</td>\n",
       "      <td>Ba2</td>\n",
       "      <td>BB+</td>\n",
       "    </tr>\n",
       "    <tr>\n",
       "      <th>XS2109819859 Corp</th>\n",
       "      <td>TELEFO</td>\n",
       "      <td>2.502</td>\n",
       "      <td>2027-02-05</td>\n",
       "      <td>NaN</td>\n",
       "      <td>PERP/CALL</td>\n",
       "      <td>94.9135</td>\n",
       "      <td>368.065</td>\n",
       "      <td>367.495</td>\n",
       "      <td>3.37202</td>\n",
       "      <td>5.65222</td>\n",
       "      <td>EUR</td>\n",
       "      <td>Subordinated</td>\n",
       "      <td>Communications</td>\n",
       "      <td>Ba2</td>\n",
       "      <td>NaN</td>\n",
       "    </tr>\n",
       "    <tr>\n",
       "      <th>XS2110077299 Corp</th>\n",
       "      <td>AKFAST</td>\n",
       "      <td>2.249</td>\n",
       "      <td>2026-02-17</td>\n",
       "      <td>2081-05-17</td>\n",
       "      <td>CALLABLE</td>\n",
       "      <td>91.506</td>\n",
       "      <td>429.965</td>\n",
       "      <td>429.591</td>\n",
       "      <td>3.96211</td>\n",
       "      <td>4.69637</td>\n",
       "      <td>EUR</td>\n",
       "      <td>Subordinated</td>\n",
       "      <td>Financial</td>\n",
       "      <td>NaN</td>\n",
       "      <td>BB+</td>\n",
       "    </tr>\n",
       "    <tr>\n",
       "      <th>XS2187689034 Corp</th>\n",
       "      <td>VW</td>\n",
       "      <td>3.5</td>\n",
       "      <td>2025-06-17</td>\n",
       "      <td>NaN</td>\n",
       "      <td>PERP/CALL</td>\n",
       "      <td>99.1135</td>\n",
       "      <td>405.506</td>\n",
       "      <td>405.174</td>\n",
       "      <td>3.69838</td>\n",
       "      <td>4.43199</td>\n",
       "      <td>EUR</td>\n",
       "      <td>Jr Subordinated</td>\n",
       "      <td>Consumer, Cyclical</td>\n",
       "      <td>Baa2</td>\n",
       "      <td>NaN</td>\n",
       "    </tr>\n",
       "    <tr>\n",
       "      <th>XS2187689380 Corp</th>\n",
       "      <td>VW</td>\n",
       "      <td>3.875</td>\n",
       "      <td>2029-06-17</td>\n",
       "      <td>NaN</td>\n",
       "      <td>PERP/CALL</td>\n",
       "      <td>98.5015</td>\n",
       "      <td>430.979</td>\n",
       "      <td>429.188</td>\n",
       "      <td>4.07761</td>\n",
       "      <td>7.31393</td>\n",
       "      <td>EUR</td>\n",
       "      <td>Jr Subordinated</td>\n",
       "      <td>Consumer, Cyclical</td>\n",
       "      <td>Baa2</td>\n",
       "      <td>NaN</td>\n",
       "    </tr>\n",
       "  </tbody>\n",
       "</table>\n",
       "<p>184 rows × 15 columns</p>\n",
       "</div>"
      ],
      "text/plain": [
       "                   ticker coupon nxt_call_dt final_maturity    mty_typ  \\\n",
       "BE6309987400 Corp  SOLBBB   4.25  2023-12-04            NaN  PERP/CALL   \n",
       "DE000A11QR73 Corp  BAYNGR   3.75  2024-07-01     2074-07-01   CALLABLE   \n",
       "DE000A14J611 Corp  BAYNGR  2.375  2022-10-02     2075-04-02   CALLABLE   \n",
       "DE000A2GSFF1 Corp   EVKGR  2.125  2022-08-07     2077-07-07   CALLABLE   \n",
       "FR0011401751 Corp     EDF  5.375  2025-01-29            NaN  PERP/CALL   \n",
       "...                   ...    ...         ...            ...        ...   \n",
       "XS2056371334 Corp  TELEFO  2.875  2027-06-24            NaN  PERP/CALL   \n",
       "XS2109819859 Corp  TELEFO  2.502  2027-02-05            NaN  PERP/CALL   \n",
       "XS2110077299 Corp  AKFAST  2.249  2026-02-17     2081-05-17   CALLABLE   \n",
       "XS2187689034 Corp      VW    3.5  2025-06-17            NaN  PERP/CALL   \n",
       "XS2187689380 Corp      VW  3.875  2029-06-17            NaN  PERP/CALL   \n",
       "\n",
       "                    px_mid z_sprd_mid yas_ispread yas_bond_yld yas_risk crncy  \\\n",
       "BE6309987400 Corp  103.567    358.078     358.141      3.20028  3.49704   EUR   \n",
       "DE000A11QR73 Corp  103.843    309.962       309.9      2.72241  3.83174   EUR   \n",
       "DE000A14J611 Corp   99.416      303.2     303.168       2.6429  2.15122   EUR   \n",
       "DE000A2GSFF1 Corp  98.6585    310.828      310.82      2.71919  2.22751   EUR   \n",
       "FR0011401751 Corp  108.154    377.935     377.764      3.41508   4.3937   EUR   \n",
       "...                    ...        ...         ...          ...      ...   ...   \n",
       "XS2056371334 Corp   95.463     391.93     391.245      3.62226  5.90199   EUR   \n",
       "XS2109819859 Corp  94.9135    368.065     367.495      3.37202  5.65222   EUR   \n",
       "XS2110077299 Corp   91.506    429.965     429.591      3.96211  4.69637   EUR   \n",
       "XS2187689034 Corp  99.1135    405.506     405.174      3.69838  4.43199   EUR   \n",
       "XS2187689380 Corp  98.5015    430.979     429.188      4.07761  7.31393   EUR   \n",
       "\n",
       "                      payment_rank         industry_sector rtg_moody rtg_sp  \n",
       "BE6309987400 Corp  Jr Subordinated         Basic Materials       Ba1    BB+  \n",
       "DE000A11QR73 Corp  Jr Subordinated  Consumer, Non-cyclical      Baa3    BB+  \n",
       "DE000A14J611 Corp  Jr Subordinated  Consumer, Non-cyclical      Baa3    BB+  \n",
       "DE000A2GSFF1 Corp  Jr Subordinated         Basic Materials      Baa3   BBB-  \n",
       "FR0011401751 Corp  Jr Subordinated               Utilities      Baa3    BB-  \n",
       "...                            ...                     ...       ...    ...  \n",
       "XS2056371334 Corp  Jr Subordinated          Communications       Ba2    BB+  \n",
       "XS2109819859 Corp     Subordinated          Communications       Ba2    NaN  \n",
       "XS2110077299 Corp     Subordinated               Financial       NaN    BB+  \n",
       "XS2187689034 Corp  Jr Subordinated      Consumer, Cyclical      Baa2    NaN  \n",
       "XS2187689380 Corp  Jr Subordinated      Consumer, Cyclical      Baa2    NaN  \n",
       "\n",
       "[184 rows x 15 columns]"
      ]
     },
     "execution_count": 13,
     "metadata": {},
     "output_type": "execute_result"
    }
   ],
   "source": [
    "bondData"
   ]
  },
  {
   "cell_type": "code",
   "execution_count": 14,
   "metadata": {
    "tags": []
   },
   "outputs": [
    {
     "name": "stdout",
     "output_type": "stream",
     "text": [
      "more rows than isins\n"
     ]
    },
    {
     "data": {
      "text/plain": [
       "184"
      ]
     },
     "execution_count": 14,
     "metadata": {},
     "output_type": "execute_result"
    }
   ],
   "source": [
    "if bondData.shape[0] / len(isin):\n",
    "    # remove duplicaes\n",
    "    print('more rows than isins')\n",
    "    bondData.drop_duplicates()\n",
    "\n",
    "bondData.shape[0]\n",
    "\n"
   ]
  },
  {
   "cell_type": "markdown",
   "metadata": {},
   "source": [
    "# Time to save the Data to file\n",
    "\n"
   ]
  },
  {
   "cell_type": "code",
   "execution_count": 20,
   "metadata": {},
   "outputs": [],
   "source": [
    "def store_data(someData):\n",
    "    ''' function to store data to file \n",
    "    \n",
    "    if data is stored:\n",
    "        return: True otherwise False\n",
    "    '''\n",
    "\n",
    "    dataWritten = False\n",
    "\n",
    "    # location to store file\n",
    "    pathToStore = os.path.abspath('')\n",
    "    # use a subfolder callled data folder\n",
    "    pathToStore = os.path.join(pathToStore, 'dataFolder')\n",
    "    print(f'the file resides here: {pathToStore}')\n",
    "\n",
    "    # file name\n",
    "    fileDateTime = datetime.datetime.now().strftime('%Y-%m-%d %H_%M_%S')\n",
    "    \n",
    "\n",
    "    fileToStoreXLSX = 'hybrids_results ' + fileDateTime + '.xlsx'\n",
    "    fileToStoreHTML = 'hybrids_results ' + fileDateTime + '.html'\n",
    "    print(f'the name of the excel file: {fileToStoreXLSX}')\n",
    "    print(f'the name of the HTML file: {fileToStoreHTML}')\n",
    "\n",
    "    # full path name\n",
    "    fullPathToStoreXLSX = os.path.join(pathToStore, fileToStoreXLSX)\n",
    "    fullPathToStoreHTML = os.path.join(pathToStore, fileToStoreHTML)    \n",
    "    \n",
    "    # save the file (to excel and html)\n",
    "    df = pd.DataFrame(someData)\n",
    "    df.to_excel(fullPathToStoreXLSX)\n",
    "    df.to_html(fullPathToStoreHTML)\n",
    "    dataWritten = True\n",
    "\n",
    "\n",
    "    return dataWritten"
   ]
  },
  {
   "cell_type": "code",
   "execution_count": 22,
   "metadata": {},
   "outputs": [
    {
     "name": "stdout",
     "output_type": "stream",
     "text": [
      "the file resides here: C:\\Users\\darren\\OneDrive - Redhedge\\code\\bbg\\corpHybrids\\dataFolder\n",
      "the name of the excel file: hybrids_results 2020-06-30 20_47_44.xlsx\n",
      "the name of the HTML file: hybrids_results 2020-06-30 20_47_44.html\n",
      "the data is stored\n"
     ]
    }
   ],
   "source": [
    "# run the function to store data\n",
    "\n",
    "storeIt = store_data(bondData)\n",
    "if storeIt == True:\n",
    "    print('the data is stored')\n",
    "    \n",
    "    "
   ]
  },
  {
   "cell_type": "markdown",
   "metadata": {},
   "source": [
    "# Lets draw some example charts now"
   ]
  },
  {
   "cell_type": "code",
   "execution_count": 23,
   "metadata": {},
   "outputs": [
    {
     "data": {
      "text/plain": [
       "<matplotlib.axes._subplots.AxesSubplot at 0x26e2d77b988>"
      ]
     },
     "execution_count": 23,
     "metadata": {},
     "output_type": "execute_result"
    },
    {
     "data": {
      "image/png": "[encoded data removed]",
      "text/plain": [
       "<Figure size 432x288 with 1 Axes>"
      ]
     },
     "metadata": {
      "needs_background": "light"
     },
     "output_type": "display_data"
    }
   ],
   "source": [
    "# plot maturity vs spread as a simple example directly from pandas\n",
    "#bondData.plot(x='nxt_call_dt', y='z_sprd_mid',kind='scatter')\n",
    "bondData.plot(x='nxt_call_dt',y='z_sprd_mid')\n",
    "\n"
   ]
  },
  {
   "cell_type": "markdown",
   "metadata": {},
   "source": [
    "### a vertical bar chart"
   ]
  },
  {
   "cell_type": "code",
   "execution_count": 24,
   "metadata": {},
   "outputs": [
    {
     "name": "stdout",
     "output_type": "stream",
     "text": [
      "time taken:  0.21\n"
     ]
    },
    {
     "data": {
      "image/png": "[encoded data removed]",
      "text/plain": [
       "<Figure size 432x288 with 1 Axes>"
      ]
     },
     "metadata": {
      "needs_background": "light"
     },
     "output_type": "display_data"
    }
   ],
   "source": [
    "# plot a bar chart of the same data\n",
    "# bondData.plot.bar(x='nxt_call_dt',y='z_sprd_mid')\n",
    "t1 = time.time()\n",
    "\n",
    "\n",
    "chart = bondData.plot(x='nxt_call_dt',y='z_sprd_mid', kind='barh')\n",
    "chart.set_xlim(0,5000)\n",
    "\n",
    "# change the y label\n",
    "chart.set_ylabel('a list of Hybrid bonds')\n",
    "\n",
    "# remove the y tick labels\n",
    "chart.set_yticklabels([])\n",
    "\n",
    "\n",
    "\n",
    "\n",
    "t2 = time.time()\n",
    "print('time taken: ',round(t2-t1,2))\n",
    "\n",
    "\n",
    "\n"
   ]
  },
  {
   "cell_type": "code",
   "execution_count": 25,
   "metadata": {},
   "outputs": [],
   "source": [
    "#bondData.hist(x='nxt_call_dt',y='z_sprd_mid')\n",
    "\n"
   ]
  },
  {
   "cell_type": "markdown",
   "metadata": {},
   "source": [
    "### a histogram of the z spreads in the hybrid space"
   ]
  },
  {
   "cell_type": "code",
   "execution_count": 27,
   "metadata": {},
   "outputs": [
    {
     "data": {
      "image/png": "[encoded data removed]",
      "text/plain": [
       "<Figure size 432x288 with 1 Axes>"
      ]
     },
     "metadata": {
      "needs_background": "light"
     },
     "output_type": "display_data"
    }
   ],
   "source": [
    "# convert to numeric\n",
    "z_sprd_mid = pd.to_numeric(bondData['z_sprd_mid'])\n",
    "yas_ispread = pd.to_numeric(bondData['yas_ispread'])\n",
    "\n",
    "\n",
    "df = pd.DataFrame({\n",
    "    'yas_ispread': yas_ispread,\n",
    "    'z_sprd_mid':z_sprd_mid\n",
    "    })\n",
    "\n",
    "#hist = df['yas_ispread'].hist(bins=50)\n",
    "#hist1 = df['z_sprd_mid'].hist(bins=50)\n",
    "\n",
    "\n",
    "hist3 = bondData['z_sprd_mid'].hist(bins=50)\n",
    "\n",
    "\n"
   ]
  },
  {
   "cell_type": "markdown",
   "metadata": {},
   "source": [
    "# Here are some statistics\n"
   ]
  },
  {
   "cell_type": "code",
   "execution_count": 28,
   "metadata": {},
   "outputs": [
    {
     "name": "stdout",
     "output_type": "stream",
     "text": [
      "the average z spread is: 409.24\n",
      "the standard deviation is: 454.0\n",
      "min, max =  14 , 3987\n",
      "standard error 33.63\n"
     ]
    }
   ],
   "source": [
    "# the average spread\n",
    "x= bondData['z_sprd_mid'].mean()\n",
    "x = round(x, 2)\n",
    "print('the average z spread is:', x)\n",
    "\n",
    "\n",
    "y= bondData['z_sprd_mid'].std()\n",
    "y = round(y)\n",
    "print('the standard deviation is:', y)\n",
    "\n",
    "x, y = bondData['z_sprd_mid'].min() , bondData['z_sprd_mid'].max()\n",
    "x, y = round(x), round(y)\n",
    "print('min, max = ', x,\",\", y)\n",
    "\n",
    "s = bondData['z_sprd_mid'].sem()\n",
    "s = round(s,2)\n",
    "print('standard error', s)\n",
    "\n"
   ]
  },
  {
   "cell_type": "markdown",
   "metadata": {},
   "source": [
    "# lets get a regression\n",
    "\n",
    "use the linear regression model in sklearn to get the linear regression.\n",
    "example is here:\n"
   ]
  },
  {
   "cell_type": "code",
   "execution_count": 29,
   "metadata": {},
   "outputs": [],
   "source": [
    "# linear regression\n",
    "\n",
    "reg = linear_model.LinearRegression()\n",
    "\n",
    "dependentVariables = bondData['nxt_call_dt'].values.reshape((-1,1))\n",
    "independentVariables = bondData['z_sprd_mid'].values\n",
    "\n",
    "# reg.fit(reg.fit([[0, 0], [1, 1], [2, 2]], [0, 1, 2]))\n",
    "\n",
    "# model = reg.fit(dependentVariables,independentVariables)\n",
    "# print(model)\n",
    "\n"
   ]
  },
  {
   "cell_type": "markdown",
   "metadata": {},
   "source": [
    "# bonds crossing one year\n",
    "This will be moved to a new module specifically for corporate hybrids.\n"
   ]
  },
  {
   "cell_type": "code",
   "execution_count": 38,
   "metadata": {},
   "outputs": [],
   "source": [
    "# this will be moved to the hybrids module.\n",
    "\n"
   ]
  },
  {
   "cell_type": "code",
   "execution_count": 40,
   "metadata": {},
   "outputs": [],
   "source": [
    "# oneYearBonds(bondData)"
   ]
  },
  {
   "cell_type": "code",
   "execution_count": 57,
   "metadata": {},
   "outputs": [],
   "source": [
    "# delete the module so that it can be restarted for testing.\n",
    "del sys.modules[\"hybridsMethods\"]"
   ]
  },
  {
   "cell_type": "code",
   "execution_count": 58,
   "metadata": {},
   "outputs": [],
   "source": [
    "# import the hybrids module for testing\n",
    "import hybridsMethods as hm"
   ]
  },
  {
   "cell_type": "code",
   "execution_count": 59,
   "metadata": {},
   "outputs": [
    {
     "name": "stdout",
     "output_type": "stream",
     "text": [
      "the hybrids module has been invoked\n",
      "new things\n"
     ]
    },
    {
     "data": {
      "text/plain": [
       "0"
      ]
     },
     "execution_count": 59,
     "metadata": {},
     "output_type": "execute_result"
    }
   ],
   "source": [
    "\n",
    "hm.oneYearBonds(100)\n",
    "\n"
   ]
  },
  {
   "cell_type": "markdown",
   "metadata": {},
   "source": [
    "# Other not used code...\n"
   ]
  },
  {
   "cell_type": "code",
   "execution_count": 30,
   "metadata": {},
   "outputs": [],
   "source": [
    "def examples():\n",
    "    \"\"\"\n",
    "    examples of how to get basic data from bbg\n",
    "    \"\"\"\n",
    "\n",
    "    # get some data for a single name\n",
    "    x = blp.bdp('BDEV LN Equity', 'px_last')\n",
    "    print(x)\n",
    "    print('the type of x', type(x))\n",
    "    print('the value of x:', x.iloc[0]['px_last'])\n",
    "\n",
    "\n",
    "    # get multiple data for a single name\n",
    "    y = blp.bdp('BDEV LN Equity', flds=['px_bid', 'px_ask'])\n",
    "    print(y)\n",
    "\n",
    "\n",
    "    # get multiple data for multiple names\n",
    "    z = blp.bdp(tickers=['BDEV LN Equity', 'BARC LN Equity'], flds=['px_bid', 'px_ask'])\n",
    "    print(z)\n",
    "    print('here is the bdev ask >>>', z.loc['BDEV LN Equity','px_ask'])\n",
    "\n"
   ]
  },
  {
   "cell_type": "code",
   "execution_count": 31,
   "metadata": {},
   "outputs": [],
   "source": [
    "def get_bonds():\n",
    "    \"\"\"\n",
    "    function to get bond data from bloomberg using tickers in an excel sheet.\n",
    "\n",
    "    return:\n",
    "        data - a pandas data set\n",
    "    \"\"\"\n",
    "\n",
    "    print('getting bond data...')\n",
    "    # securtiyList = ['US29265WAA62 Corp', 'XS1713463559 Corp', 'XS2000719992 Corp', 'XS0954675129 Corp', 'XS0954675129 Corp']\n",
    "    fieldList = ['ticker', 'coupon', 'nxt_call_dt', 'final_maturity', \n",
    "                'mty_typ', 'px_mid', 'z_sprd_mid', 'yas_ispread', 'yas_bond_yld', \n",
    "                'yas_risk','crncy', 'payment_rank', 'industry_sector','rtg_moody','rtg_sp']\n",
    "\n",
    "    # the script fis here\n",
    "    #dir_path = os.path.dirname(os.path.realpath(__file__))\n",
    "    dir_path = os.path.abspath('')\n",
    "\n",
    "\n",
    "    # get items from sheet (in the same folder)\n",
    "    fileToGet = 'hybridSecurityList.xlsx'\n",
    "    # join file and correct folder\n",
    "    fileToGet = os.path.join(dir_path, fileToGet)\n",
    "    secListXlsx = pd.ExcelFile(fileToGet)\n",
    "    \n",
    "    # the names of the available sheets\n",
    "    print('getting security list from:', secListXlsx.sheet_names)\n",
    "    df = pd.DataFrame(secListXlsx.parse('tickers'))\n",
    "    print('summary of the data')\n",
    "    print(df.info)\n",
    "    \n",
    "    # put all isin's in a list\n",
    "    isin = df.iloc[:,1].tolist()\n",
    "    securtiyList = [x + \" Corp\" for x in isin]\n",
    "\n",
    "    # make the lists unique (and keep the order)\n",
    "    securtiyList = list(collections.OrderedDict.fromkeys(securtiyList))\n",
    "\n",
    "    # get the data from bloomberg\n",
    "    print('getting data from bbg')\n",
    "    bondData = getListDataFromBbg(securtiyList, fieldList)\n",
    "\n",
    "    #print('number of columns:', data.head())\n",
    "    print('data is fetched:')\n",
    "    print(bondData.info)\n",
    "\n",
    "    return bondData"
   ]
  },
  {
   "cell_type": "code",
   "execution_count": 32,
   "metadata": {},
   "outputs": [],
   "source": [
    "def main():\n",
    "\n",
    "    # measure time for some basic examples\n",
    "    t1 = time.time()\n",
    "    \n",
    "    # basic example (not used now)\n",
    "    #examples()\n",
    "    \n",
    "    bondData = get_bonds()    \n",
    "    t2 = time.time()\n",
    "\n",
    "    # save data to file\n",
    "    isStored = store_data(bondData)\n",
    "\n",
    "    t3 = time.time()\n",
    "\n",
    "\n",
    "    print('the time take is:', round(t2-t1, 3) , 'seconds')\n"
   ]
  },
  {
   "cell_type": "code",
   "execution_count": null,
   "metadata": {},
   "outputs": [],
   "source": []
  },
  {
   "cell_type": "code",
   "execution_count": 33,
   "metadata": {
    "tags": []
   },
   "outputs": [
    {
     "name": "stdout",
     "output_type": "stream",
     "text": [
      "getting bond data...\n",
      "getting security list from: ['worksheets', 'tickers']\n",
      "summary of the data\n",
      "<bound method DataFrame.info of      QJ937853 Corp  XS1323897485      SOLBBB 5.118 PERP nc-21\n",
      "0    EJ917655 Corp  XS0992293901      SOLBBB 5.425 PERP nc-23\n",
      "1    AV915324 Corp  BE6309987400      SOLBBB 4 1/4 PERP nc-23\n",
      "2    QJ937566 Corp  XS1323897725      SOLBBB 5.869 PERP nc-24\n",
      "3    EK834863 Corp  DE000A14J611  BAYNGR 2 3/8 04/02/75 nc-22\n",
      "4    EK352403 Corp  DE000A11QR73  BAYNGR 3 3/4 07/01/74 nc-24\n",
      "..             ...           ...                          ...\n",
      "180  EK523297 Corp  DE000A1ZN206           WIEAV 5 PERP nc-21\n",
      "181  AM679347 Corp  XS1582433428      TRAFIG 6 7/8 PERP nc-21\n",
      "182  AZ920495 Corp  XS2033327854      TRAFIG 7 1/2 PERP nc-24\n",
      "183  AO262498 Corp  XS1642682410          SOFTBK 6 PERP nc-23\n",
      "184  AO262515 Corp  XS1642686676      SOFTBK 6 7/8 PERP nc-27\n",
      "\n",
      "[185 rows x 3 columns]>\n",
      "getting data from bbg\n",
      "104 of 184 remaining : loop 0\n",
      "no data to add\n",
      "104 of 184 remaining : loop 1\n",
      "20 of 184 remaining : loop 2\n",
      "no data to add\n",
      "20 of 184 remaining : loop 3\n",
      "10 of 184 remaining : loop 4\n",
      "data is fetched:\n",
      "<bound method DataFrame.info of                    ticker coupon nxt_call_dt final_maturity    mty_typ  \\\n",
      "BE6309987400 Corp  SOLBBB   4.25  2023-12-04            NaN  PERP/CALL   \n",
      "DE000A11QR73 Corp  BAYNGR   3.75  2024-07-01     2074-07-01   CALLABLE   \n",
      "DE000A14J611 Corp  BAYNGR  2.375  2022-10-02     2075-04-02   CALLABLE   \n",
      "DE000A161W62 Corp  DBOERS   2.75  2020-11-05     2041-02-05   CALLABLE   \n",
      "DE000A289N78 Corp  DBOERS   1.25  2027-03-16     2047-06-16   CALLABLE   \n",
      "...                   ...    ...         ...            ...        ...   \n",
      "XS1572349865 Corp   SSELN  3.625  2022-06-16     2077-09-16   CALLABLE   \n",
      "XS1642686676 Corp  SOFTBK  6.875  2027-07-19            NaN  PERP/CALL   \n",
      "XS1788973573 Corp  AKFAST  3.875  2023-07-08     2078-10-05   CALLABLE   \n",
      "XS2010032618 Corp  SBBBSS  2.624  2025-01-30            NaN  PERP/CALL   \n",
      "XS2055106210 Corp   TLGGR  3.375  2024-09-23            NaN  PERP/CALL   \n",
      "\n",
      "                    px_mid z_sprd_mid yas_ispread yas_bond_yld  yas_risk  \\\n",
      "BE6309987400 Corp  103.567    358.078     358.141      3.20028   3.49704   \n",
      "DE000A11QR73 Corp  103.843    309.962       309.9      2.72241   3.83174   \n",
      "DE000A14J611 Corp   99.416      303.2     303.168       2.6429   2.15122   \n",
      "DE000A161W62 Corp   100.86    52.1116     55.5033     0.247033  0.350753   \n",
      "DE000A289N78 Corp  99.9825    155.544     155.225       1.2529   6.39055   \n",
      "...                    ...        ...         ...          ...       ...   \n",
      "XS1572349865 Corp  100.862    302.353     299.788      3.18446   2.14895   \n",
      "XS1642686676 Corp     94.4    748.845     745.722       7.9263   5.13605   \n",
      "XS1788973573 Corp   100.69    402.953     402.927      3.64242   3.03984   \n",
      "XS2010032618 Corp  92.2955    488.816     488.646      4.52397   3.85535   \n",
      "XS2055106210 Corp   95.225    501.505     501.423       4.6432   3.64529   \n",
      "\n",
      "                  crncy     payment_rank         industry_sector rtg_moody  \\\n",
      "BE6309987400 Corp   EUR  Jr Subordinated         Basic Materials       Ba1   \n",
      "DE000A11QR73 Corp   EUR  Jr Subordinated  Consumer, Non-cyclical      Baa3   \n",
      "DE000A14J611 Corp   EUR  Jr Subordinated  Consumer, Non-cyclical      Baa3   \n",
      "DE000A161W62 Corp   EUR  Jr Subordinated               Financial       NaN   \n",
      "DE000A289N78 Corp   EUR     Subordinated               Financial       NaN   \n",
      "...                 ...              ...                     ...       ...   \n",
      "XS1572349865 Corp   GBP     Subordinated               Utilities      Baa3   \n",
      "XS1642686676 Corp   USD     Subordinated          Communications       B2u   \n",
      "XS1788973573 Corp   EUR     Subordinated               Financial       NaN   \n",
      "XS2010032618 Corp   EUR     Subordinated               Financial       NaN   \n",
      "XS2055106210 Corp   EUR  Jr Subordinated               Financial       Ba1   \n",
      "\n",
      "                  rtg_sp  \n",
      "BE6309987400 Corp    BB+  \n",
      "DE000A11QR73 Corp    BB+  \n",
      "DE000A14J611 Corp    BB+  \n",
      "DE000A161W62 Corp     A+  \n",
      "DE000A289N78 Corp     A+  \n",
      "...                  ...  \n",
      "XS1572349865 Corp   BBB-  \n",
      "XS1642686676 Corp     B+  \n",
      "XS1788973573 Corp    BB+  \n",
      "XS2010032618 Corp     BB  \n",
      "XS2055106210 Corp   BBB-  \n",
      "\n",
      "[186 rows x 15 columns]>\n",
      "the file resides here: C:\\Users\\darren\\OneDrive - Redhedge\\code\\bbg\\corpHybrids\\dataFolder\n",
      "the name of the excel file: hybrids_results 2020-06-30 20_49_25.xlsx\n",
      "the name of the HTML file: hybrids_results 2020-06-30 20_49_25.html\n",
      "the time take is: 30.402 seconds\n"
     ]
    }
   ],
   "source": [
    "# this does not work in a jupyter notebook which runs commands in sequence.\n",
    "# there is no hoisting unless the code is added to a main() function.\n",
    "\n",
    "\n",
    "if __name__ == \"__main__\":\n",
    "    main()\n",
    "    pass\n",
    "\n",
    "\n"
   ]
  },
  {
   "cell_type": "code",
   "execution_count": null,
   "metadata": {},
   "outputs": [],
   "source": []
  }
 ],
 "metadata": {
  "kernelspec": {
   "display_name": "Python 3.7.7 64-bit",
   "language": "python",
   "name": "python37764bit3547483bfbc24dd7b776db83ec25b074"
  },
  "language_info": {
   "codemirror_mode": {
    "name": "ipython",
    "version": 3
   },
   "file_extension": ".py",
   "mimetype": "text/x-python",
   "name": "python",
   "nbconvert_exporter": "python",
   "pygments_lexer": "ipython3",
   "version": "3.7.7"
  }
 },
 "nbformat": 4,
 "nbformat_minor": 2
}
